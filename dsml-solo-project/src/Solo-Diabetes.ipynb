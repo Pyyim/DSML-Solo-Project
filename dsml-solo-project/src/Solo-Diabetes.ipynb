{
 "cells": [
  {
   "cell_type": "code",
   "execution_count": 39,
   "metadata": {},
   "outputs": [],
   "source": [
    "import pandas as pd\n",
    "import numpy as np\n",
    "from sklearn.linear_model import LogisticRegression\n",
    "from sklearn.preprocessing import StandardScaler\n",
    "from sklearn.pipeline import make_pipeline, Pipeline\n",
    "from sklearn.decomposition import PCA\n",
    "from sklearn.metrics import accuracy_score, confusion_matrix, roc_auc_score, roc_curve, log_loss\n",
    "from xgboost import XGBClassifier\n",
    "from sklearn import svm\n",
    "from lightgbm import LGBMClassifier\n",
    "import lightgbm as lgb\n",
    "\n",
    "df = pd.read_csv('../data/train_data.csv')\n",
    "test = pd.read_csv('../data/test_data.csv')\n"
   ]
  },
  {
   "cell_type": "code",
   "execution_count": 45,
   "metadata": {},
   "outputs": [],
   "source": [
    "def split_data(X, y, frac: float = 0.2) -> tuple:\n",
    "    \"\"\"Splits data so that it returns a train / test split with a given fraction\"\"\"\n",
    "\n",
    "    # cutoff point for training / test split\n",
    "    idx_cutoff = int(X.shape[0] * (1 - frac))\n",
    "\n",
    "    X_train, X_test, y_train, y_test = X.iloc[:idx_cutoff], X.iloc[idx_cutoff:], y.iloc[:idx_cutoff], y.iloc[idx_cutoff:]\n",
    "\n",
    "    return X_train, X_test, y_train, y_test"
   ]
  },
  {
   "cell_type": "code",
   "execution_count": 46,
   "metadata": {},
   "outputs": [],
   "source": [
    "col_list_train = list(df.columns)\n",
    "col_list_train.remove('Diabetes')\n",
    "\n",
    "\n",
    "dfX_train = df[col_list_train]\n",
    "dfy_train = df['Diabetes']\n",
    "\n",
    "X_train, X_test, y_train, y_test = split_data(dfX_train, dfy_train, 0.2)"
   ]
  },
  {
   "cell_type": "code",
   "execution_count": 47,
   "metadata": {},
   "outputs": [
    {
     "data": {
      "text/plain": [
       "0.7224115496623087"
      ]
     },
     "execution_count": 47,
     "metadata": {},
     "output_type": "execute_result"
    }
   ],
   "source": [
    "mod_pipeline = Pipeline([('scaler', StandardScaler()), ('PCA', PCA(n_components= 0.9)), ('logisticRegression', LogisticRegression())])\n",
    "mod_pipeline.fit(X_train, y_train)\n",
    "test_score = mod_pipeline.score(X_test, y_test)\n",
    "test_score"
   ]
  },
  {
   "cell_type": "code",
   "execution_count": 67,
   "metadata": {},
   "outputs": [
    {
     "data": {
      "text/plain": [
       "0.5639282062803498"
      ]
     },
     "execution_count": 67,
     "metadata": {},
     "output_type": "execute_result"
    }
   ],
   "source": [
    "prediction = mod_pipeline.predict_proba(X_test)\n",
    "log_loss(y_true = y_test, y_pred = prediction)\n"
   ]
  },
  {
   "cell_type": "code",
   "execution_count": 49,
   "metadata": {},
   "outputs": [],
   "source": [
    "sup_vec_mac = svm.SVC(kernel = 'linear', C = 1)\n",
    "sup_vec_mac.fit(X_train, y_train)\n",
    "prediction = sup_vec_mac.predict(X_test)\n",
    "# log_loss(y_true = y_test, y_pred = prediction)\n"
   ]
  },
  {
   "cell_type": "code",
   "execution_count": 50,
   "metadata": {},
   "outputs": [
    {
     "data": {
      "text/plain": [
       "9.221644068454006"
      ]
     },
     "execution_count": 50,
     "metadata": {},
     "output_type": "execute_result"
    }
   ],
   "source": [
    "log_loss(y_true = y_test, y_pred = prediction)\n"
   ]
  },
  {
   "cell_type": "code",
   "execution_count": 51,
   "metadata": {},
   "outputs": [
    {
     "name": "stderr",
     "output_type": "stream",
     "text": [
      "c:\\Users\\paulj\\Virtual_Environment_Python\\lib\\site-packages\\xgboost\\sklearn.py:861: UserWarning: `eval_metric` in `fit` method is deprecated for better compatibility with scikit-learn, use `eval_metric` in constructor or`set_params` instead.\n",
      "  warnings.warn(\n"
     ]
    },
    {
     "name": "stdout",
     "output_type": "stream",
     "text": [
      "[09:11:22] INFO: C:/buildkite-agent/builds/buildkite-windows-cpu-autoscaling-group-i-03de431ba26204c4d-1/xgboost/xgboost-ci-windows/src/tree/updater_prune.cc:98: tree pruning end, 126 extra nodes, 0 pruned nodes, max_depth=6\n",
      "[09:11:22] INFO: C:/buildkite-agent/builds/buildkite-windows-cpu-autoscaling-group-i-03de431ba26204c4d-1/xgboost/xgboost-ci-windows/src/tree/updater_prune.cc:98: tree pruning end, 126 extra nodes, 0 pruned nodes, max_depth=6\n",
      "[09:11:22] INFO: C:/buildkite-agent/builds/buildkite-windows-cpu-autoscaling-group-i-03de431ba26204c4d-1/xgboost/xgboost-ci-windows/src/tree/updater_prune.cc:98: tree pruning end, 126 extra nodes, 0 pruned nodes, max_depth=6\n",
      "[09:11:22] INFO: C:/buildkite-agent/builds/buildkite-windows-cpu-autoscaling-group-i-03de431ba26204c4d-1/xgboost/xgboost-ci-windows/src/tree/updater_prune.cc:98: tree pruning end, 126 extra nodes, 0 pruned nodes, max_depth=6\n",
      "[09:11:22] INFO: C:/buildkite-agent/builds/buildkite-windows-cpu-autoscaling-group-i-03de431ba26204c4d-1/xgboost/xgboost-ci-windows/src/tree/updater_prune.cc:98: tree pruning end, 126 extra nodes, 0 pruned nodes, max_depth=6\n",
      "[09:11:22] INFO: C:/buildkite-agent/builds/buildkite-windows-cpu-autoscaling-group-i-03de431ba26204c4d-1/xgboost/xgboost-ci-windows/src/tree/updater_prune.cc:98: tree pruning end, 126 extra nodes, 0 pruned nodes, max_depth=6\n",
      "[09:11:22] INFO: C:/buildkite-agent/builds/buildkite-windows-cpu-autoscaling-group-i-03de431ba26204c4d-1/xgboost/xgboost-ci-windows/src/tree/updater_prune.cc:98: tree pruning end, 122 extra nodes, 0 pruned nodes, max_depth=6\n",
      "[09:11:22] INFO: C:/buildkite-agent/builds/buildkite-windows-cpu-autoscaling-group-i-03de431ba26204c4d-1/xgboost/xgboost-ci-windows/src/tree/updater_prune.cc:98: tree pruning end, 122 extra nodes, 0 pruned nodes, max_depth=6\n",
      "[09:11:22] INFO: C:/buildkite-agent/builds/buildkite-windows-cpu-autoscaling-group-i-03de431ba26204c4d-1/xgboost/xgboost-ci-windows/src/tree/updater_prune.cc:98: tree pruning end, 124 extra nodes, 0 pruned nodes, max_depth=6\n",
      "[09:11:22] INFO: C:/buildkite-agent/builds/buildkite-windows-cpu-autoscaling-group-i-03de431ba26204c4d-1/xgboost/xgboost-ci-windows/src/tree/updater_prune.cc:98: tree pruning end, 126 extra nodes, 0 pruned nodes, max_depth=6\n",
      "[09:11:22] INFO: C:/buildkite-agent/builds/buildkite-windows-cpu-autoscaling-group-i-03de431ba26204c4d-1/xgboost/xgboost-ci-windows/src/tree/updater_prune.cc:98: tree pruning end, 118 extra nodes, 0 pruned nodes, max_depth=6\n",
      "[09:11:22] INFO: C:/buildkite-agent/builds/buildkite-windows-cpu-autoscaling-group-i-03de431ba26204c4d-1/xgboost/xgboost-ci-windows/src/tree/updater_prune.cc:98: tree pruning end, 88 extra nodes, 0 pruned nodes, max_depth=6\n",
      "[09:11:22] INFO: C:/buildkite-agent/builds/buildkite-windows-cpu-autoscaling-group-i-03de431ba26204c4d-1/xgboost/xgboost-ci-windows/src/tree/updater_prune.cc:98: tree pruning end, 122 extra nodes, 0 pruned nodes, max_depth=6\n",
      "[09:11:22] INFO: C:/buildkite-agent/builds/buildkite-windows-cpu-autoscaling-group-i-03de431ba26204c4d-1/xgboost/xgboost-ci-windows/src/tree/updater_prune.cc:98: tree pruning end, 90 extra nodes, 0 pruned nodes, max_depth=6\n",
      "[09:11:22] INFO: C:/buildkite-agent/builds/buildkite-windows-cpu-autoscaling-group-i-03de431ba26204c4d-1/xgboost/xgboost-ci-windows/src/tree/updater_prune.cc:98: tree pruning end, 126 extra nodes, 0 pruned nodes, max_depth=6\n",
      "[09:11:22] INFO: C:/buildkite-agent/builds/buildkite-windows-cpu-autoscaling-group-i-03de431ba26204c4d-1/xgboost/xgboost-ci-windows/src/tree/updater_prune.cc:98: tree pruning end, 92 extra nodes, 0 pruned nodes, max_depth=6\n",
      "[09:11:22] INFO: C:/buildkite-agent/builds/buildkite-windows-cpu-autoscaling-group-i-03de431ba26204c4d-1/xgboost/xgboost-ci-windows/src/tree/updater_prune.cc:98: tree pruning end, 112 extra nodes, 0 pruned nodes, max_depth=6\n",
      "[09:11:22] INFO: C:/buildkite-agent/builds/buildkite-windows-cpu-autoscaling-group-i-03de431ba26204c4d-1/xgboost/xgboost-ci-windows/src/tree/updater_prune.cc:98: tree pruning end, 82 extra nodes, 0 pruned nodes, max_depth=6\n",
      "[09:11:22] INFO: C:/buildkite-agent/builds/buildkite-windows-cpu-autoscaling-group-i-03de431ba26204c4d-1/xgboost/xgboost-ci-windows/src/tree/updater_prune.cc:98: tree pruning end, 124 extra nodes, 0 pruned nodes, max_depth=6\n",
      "[09:11:22] INFO: C:/buildkite-agent/builds/buildkite-windows-cpu-autoscaling-group-i-03de431ba26204c4d-1/xgboost/xgboost-ci-windows/src/tree/updater_prune.cc:98: tree pruning end, 86 extra nodes, 0 pruned nodes, max_depth=6\n",
      "[09:11:22] INFO: C:/buildkite-agent/builds/buildkite-windows-cpu-autoscaling-group-i-03de431ba26204c4d-1/xgboost/xgboost-ci-windows/src/tree/updater_prune.cc:98: tree pruning end, 106 extra nodes, 0 pruned nodes, max_depth=6\n",
      "[09:11:22] INFO: C:/buildkite-agent/builds/buildkite-windows-cpu-autoscaling-group-i-03de431ba26204c4d-1/xgboost/xgboost-ci-windows/src/tree/updater_prune.cc:98: tree pruning end, 84 extra nodes, 0 pruned nodes, max_depth=6\n",
      "[09:11:22] INFO: C:/buildkite-agent/builds/buildkite-windows-cpu-autoscaling-group-i-03de431ba26204c4d-1/xgboost/xgboost-ci-windows/src/tree/updater_prune.cc:98: tree pruning end, 110 extra nodes, 0 pruned nodes, max_depth=6\n",
      "[09:11:22] INFO: C:/buildkite-agent/builds/buildkite-windows-cpu-autoscaling-group-i-03de431ba26204c4d-1/xgboost/xgboost-ci-windows/src/tree/updater_prune.cc:98: tree pruning end, 96 extra nodes, 0 pruned nodes, max_depth=6\n",
      "[09:11:22] INFO: C:/buildkite-agent/builds/buildkite-windows-cpu-autoscaling-group-i-03de431ba26204c4d-1/xgboost/xgboost-ci-windows/src/tree/updater_prune.cc:98: tree pruning end, 104 extra nodes, 0 pruned nodes, max_depth=6\n",
      "[09:11:22] INFO: C:/buildkite-agent/builds/buildkite-windows-cpu-autoscaling-group-i-03de431ba26204c4d-1/xgboost/xgboost-ci-windows/src/tree/updater_prune.cc:98: tree pruning end, 68 extra nodes, 0 pruned nodes, max_depth=6\n",
      "[09:11:22] INFO: C:/buildkite-agent/builds/buildkite-windows-cpu-autoscaling-group-i-03de431ba26204c4d-1/xgboost/xgboost-ci-windows/src/tree/updater_prune.cc:98: tree pruning end, 114 extra nodes, 0 pruned nodes, max_depth=6\n",
      "[09:11:22] INFO: C:/buildkite-agent/builds/buildkite-windows-cpu-autoscaling-group-i-03de431ba26204c4d-1/xgboost/xgboost-ci-windows/src/tree/updater_prune.cc:98: tree pruning end, 60 extra nodes, 0 pruned nodes, max_depth=6\n",
      "[09:11:22] INFO: C:/buildkite-agent/builds/buildkite-windows-cpu-autoscaling-group-i-03de431ba26204c4d-1/xgboost/xgboost-ci-windows/src/tree/updater_prune.cc:98: tree pruning end, 124 extra nodes, 0 pruned nodes, max_depth=6\n",
      "[09:11:22] INFO: C:/buildkite-agent/builds/buildkite-windows-cpu-autoscaling-group-i-03de431ba26204c4d-1/xgboost/xgboost-ci-windows/src/tree/updater_prune.cc:98: tree pruning end, 112 extra nodes, 0 pruned nodes, max_depth=6\n",
      "[09:11:22] INFO: C:/buildkite-agent/builds/buildkite-windows-cpu-autoscaling-group-i-03de431ba26204c4d-1/xgboost/xgboost-ci-windows/src/tree/updater_prune.cc:98: tree pruning end, 118 extra nodes, 0 pruned nodes, max_depth=6\n",
      "[09:11:23] INFO: C:/buildkite-agent/builds/buildkite-windows-cpu-autoscaling-group-i-03de431ba26204c4d-1/xgboost/xgboost-ci-windows/src/tree/updater_prune.cc:98: tree pruning end, 108 extra nodes, 0 pruned nodes, max_depth=6\n",
      "[09:11:23] INFO: C:/buildkite-agent/builds/buildkite-windows-cpu-autoscaling-group-i-03de431ba26204c4d-1/xgboost/xgboost-ci-windows/src/tree/updater_prune.cc:98: tree pruning end, 84 extra nodes, 0 pruned nodes, max_depth=6\n",
      "[09:11:23] INFO: C:/buildkite-agent/builds/buildkite-windows-cpu-autoscaling-group-i-03de431ba26204c4d-1/xgboost/xgboost-ci-windows/src/tree/updater_prune.cc:98: tree pruning end, 124 extra nodes, 0 pruned nodes, max_depth=6\n",
      "[09:11:23] INFO: C:/buildkite-agent/builds/buildkite-windows-cpu-autoscaling-group-i-03de431ba26204c4d-1/xgboost/xgboost-ci-windows/src/tree/updater_prune.cc:98: tree pruning end, 106 extra nodes, 0 pruned nodes, max_depth=6\n",
      "[09:11:23] INFO: C:/buildkite-agent/builds/buildkite-windows-cpu-autoscaling-group-i-03de431ba26204c4d-1/xgboost/xgboost-ci-windows/src/tree/updater_prune.cc:98: tree pruning end, 124 extra nodes, 0 pruned nodes, max_depth=6\n",
      "[09:11:23] INFO: C:/buildkite-agent/builds/buildkite-windows-cpu-autoscaling-group-i-03de431ba26204c4d-1/xgboost/xgboost-ci-windows/src/tree/updater_prune.cc:98: tree pruning end, 108 extra nodes, 0 pruned nodes, max_depth=6\n",
      "[09:11:23] INFO: C:/buildkite-agent/builds/buildkite-windows-cpu-autoscaling-group-i-03de431ba26204c4d-1/xgboost/xgboost-ci-windows/src/tree/updater_prune.cc:98: tree pruning end, 86 extra nodes, 0 pruned nodes, max_depth=6\n",
      "[09:11:23] INFO: C:/buildkite-agent/builds/buildkite-windows-cpu-autoscaling-group-i-03de431ba26204c4d-1/xgboost/xgboost-ci-windows/src/tree/updater_prune.cc:98: tree pruning end, 110 extra nodes, 0 pruned nodes, max_depth=6\n",
      "[09:11:23] INFO: C:/buildkite-agent/builds/buildkite-windows-cpu-autoscaling-group-i-03de431ba26204c4d-1/xgboost/xgboost-ci-windows/src/tree/updater_prune.cc:98: tree pruning end, 106 extra nodes, 0 pruned nodes, max_depth=6\n",
      "[09:11:23] INFO: C:/buildkite-agent/builds/buildkite-windows-cpu-autoscaling-group-i-03de431ba26204c4d-1/xgboost/xgboost-ci-windows/src/tree/updater_prune.cc:98: tree pruning end, 66 extra nodes, 0 pruned nodes, max_depth=6\n",
      "[09:11:23] INFO: C:/buildkite-agent/builds/buildkite-windows-cpu-autoscaling-group-i-03de431ba26204c4d-1/xgboost/xgboost-ci-windows/src/tree/updater_prune.cc:98: tree pruning end, 106 extra nodes, 0 pruned nodes, max_depth=6\n",
      "[09:11:23] INFO: C:/buildkite-agent/builds/buildkite-windows-cpu-autoscaling-group-i-03de431ba26204c4d-1/xgboost/xgboost-ci-windows/src/tree/updater_prune.cc:98: tree pruning end, 84 extra nodes, 0 pruned nodes, max_depth=6\n",
      "[09:11:23] INFO: C:/buildkite-agent/builds/buildkite-windows-cpu-autoscaling-group-i-03de431ba26204c4d-1/xgboost/xgboost-ci-windows/src/tree/updater_prune.cc:98: tree pruning end, 86 extra nodes, 0 pruned nodes, max_depth=6\n",
      "[09:11:23] INFO: C:/buildkite-agent/builds/buildkite-windows-cpu-autoscaling-group-i-03de431ba26204c4d-1/xgboost/xgboost-ci-windows/src/tree/updater_prune.cc:98: tree pruning end, 104 extra nodes, 0 pruned nodes, max_depth=6\n",
      "[09:11:23] INFO: C:/buildkite-agent/builds/buildkite-windows-cpu-autoscaling-group-i-03de431ba26204c4d-1/xgboost/xgboost-ci-windows/src/tree/updater_prune.cc:98: tree pruning end, 54 extra nodes, 0 pruned nodes, max_depth=6\n",
      "[09:11:23] INFO: C:/buildkite-agent/builds/buildkite-windows-cpu-autoscaling-group-i-03de431ba26204c4d-1/xgboost/xgboost-ci-windows/src/tree/updater_prune.cc:98: tree pruning end, 88 extra nodes, 0 pruned nodes, max_depth=6\n",
      "[09:11:23] INFO: C:/buildkite-agent/builds/buildkite-windows-cpu-autoscaling-group-i-03de431ba26204c4d-1/xgboost/xgboost-ci-windows/src/tree/updater_prune.cc:98: tree pruning end, 112 extra nodes, 0 pruned nodes, max_depth=6\n",
      "[09:11:23] INFO: C:/buildkite-agent/builds/buildkite-windows-cpu-autoscaling-group-i-03de431ba26204c4d-1/xgboost/xgboost-ci-windows/src/tree/updater_prune.cc:98: tree pruning end, 120 extra nodes, 0 pruned nodes, max_depth=6\n",
      "[09:11:23] INFO: C:/buildkite-agent/builds/buildkite-windows-cpu-autoscaling-group-i-03de431ba26204c4d-1/xgboost/xgboost-ci-windows/src/tree/updater_prune.cc:98: tree pruning end, 104 extra nodes, 0 pruned nodes, max_depth=6\n",
      "[09:11:23] INFO: C:/buildkite-agent/builds/buildkite-windows-cpu-autoscaling-group-i-03de431ba26204c4d-1/xgboost/xgboost-ci-windows/src/tree/updater_prune.cc:98: tree pruning end, 124 extra nodes, 0 pruned nodes, max_depth=6\n",
      "[09:11:23] INFO: C:/buildkite-agent/builds/buildkite-windows-cpu-autoscaling-group-i-03de431ba26204c4d-1/xgboost/xgboost-ci-windows/src/tree/updater_prune.cc:98: tree pruning end, 124 extra nodes, 0 pruned nodes, max_depth=6\n",
      "[09:11:23] INFO: C:/buildkite-agent/builds/buildkite-windows-cpu-autoscaling-group-i-03de431ba26204c4d-1/xgboost/xgboost-ci-windows/src/tree/updater_prune.cc:98: tree pruning end, 94 extra nodes, 0 pruned nodes, max_depth=6\n",
      "[09:11:23] INFO: C:/buildkite-agent/builds/buildkite-windows-cpu-autoscaling-group-i-03de431ba26204c4d-1/xgboost/xgboost-ci-windows/src/tree/updater_prune.cc:98: tree pruning end, 114 extra nodes, 0 pruned nodes, max_depth=6\n",
      "[09:11:23] INFO: C:/buildkite-agent/builds/buildkite-windows-cpu-autoscaling-group-i-03de431ba26204c4d-1/xgboost/xgboost-ci-windows/src/tree/updater_prune.cc:98: tree pruning end, 24 extra nodes, 0 pruned nodes, max_depth=6\n",
      "[09:11:23] INFO: C:/buildkite-agent/builds/buildkite-windows-cpu-autoscaling-group-i-03de431ba26204c4d-1/xgboost/xgboost-ci-windows/src/tree/updater_prune.cc:98: tree pruning end, 116 extra nodes, 0 pruned nodes, max_depth=6\n",
      "[09:11:23] INFO: C:/buildkite-agent/builds/buildkite-windows-cpu-autoscaling-group-i-03de431ba26204c4d-1/xgboost/xgboost-ci-windows/src/tree/updater_prune.cc:98: tree pruning end, 84 extra nodes, 0 pruned nodes, max_depth=6\n",
      "[09:11:23] INFO: C:/buildkite-agent/builds/buildkite-windows-cpu-autoscaling-group-i-03de431ba26204c4d-1/xgboost/xgboost-ci-windows/src/tree/updater_prune.cc:98: tree pruning end, 82 extra nodes, 0 pruned nodes, max_depth=6\n",
      "[09:11:23] INFO: C:/buildkite-agent/builds/buildkite-windows-cpu-autoscaling-group-i-03de431ba26204c4d-1/xgboost/xgboost-ci-windows/src/tree/updater_prune.cc:98: tree pruning end, 124 extra nodes, 0 pruned nodes, max_depth=6\n",
      "[09:11:23] INFO: C:/buildkite-agent/builds/buildkite-windows-cpu-autoscaling-group-i-03de431ba26204c4d-1/xgboost/xgboost-ci-windows/src/tree/updater_prune.cc:98: tree pruning end, 122 extra nodes, 0 pruned nodes, max_depth=6\n",
      "[09:11:23] INFO: C:/buildkite-agent/builds/buildkite-windows-cpu-autoscaling-group-i-03de431ba26204c4d-1/xgboost/xgboost-ci-windows/src/tree/updater_prune.cc:98: tree pruning end, 70 extra nodes, 0 pruned nodes, max_depth=6\n",
      "[09:11:23] INFO: C:/buildkite-agent/builds/buildkite-windows-cpu-autoscaling-group-i-03de431ba26204c4d-1/xgboost/xgboost-ci-windows/src/tree/updater_prune.cc:98: tree pruning end, 66 extra nodes, 0 pruned nodes, max_depth=6\n",
      "[09:11:23] INFO: C:/buildkite-agent/builds/buildkite-windows-cpu-autoscaling-group-i-03de431ba26204c4d-1/xgboost/xgboost-ci-windows/src/tree/updater_prune.cc:98: tree pruning end, 124 extra nodes, 0 pruned nodes, max_depth=6\n",
      "[09:11:23] INFO: C:/buildkite-agent/builds/buildkite-windows-cpu-autoscaling-group-i-03de431ba26204c4d-1/xgboost/xgboost-ci-windows/src/tree/updater_prune.cc:98: tree pruning end, 106 extra nodes, 0 pruned nodes, max_depth=6\n",
      "[09:11:23] INFO: C:/buildkite-agent/builds/buildkite-windows-cpu-autoscaling-group-i-03de431ba26204c4d-1/xgboost/xgboost-ci-windows/src/tree/updater_prune.cc:98: tree pruning end, 92 extra nodes, 0 pruned nodes, max_depth=6\n",
      "[09:11:23] INFO: C:/buildkite-agent/builds/buildkite-windows-cpu-autoscaling-group-i-03de431ba26204c4d-1/xgboost/xgboost-ci-windows/src/tree/updater_prune.cc:98: tree pruning end, 126 extra nodes, 0 pruned nodes, max_depth=6\n",
      "[09:11:23] INFO: C:/buildkite-agent/builds/buildkite-windows-cpu-autoscaling-group-i-03de431ba26204c4d-1/xgboost/xgboost-ci-windows/src/tree/updater_prune.cc:98: tree pruning end, 126 extra nodes, 0 pruned nodes, max_depth=6\n",
      "[09:11:23] INFO: C:/buildkite-agent/builds/buildkite-windows-cpu-autoscaling-group-i-03de431ba26204c4d-1/xgboost/xgboost-ci-windows/src/tree/updater_prune.cc:98: tree pruning end, 104 extra nodes, 0 pruned nodes, max_depth=6\n",
      "[09:11:23] INFO: C:/buildkite-agent/builds/buildkite-windows-cpu-autoscaling-group-i-03de431ba26204c4d-1/xgboost/xgboost-ci-windows/src/tree/updater_prune.cc:98: tree pruning end, 110 extra nodes, 0 pruned nodes, max_depth=6\n",
      "[09:11:23] INFO: C:/buildkite-agent/builds/buildkite-windows-cpu-autoscaling-group-i-03de431ba26204c4d-1/xgboost/xgboost-ci-windows/src/tree/updater_prune.cc:98: tree pruning end, 86 extra nodes, 0 pruned nodes, max_depth=6\n",
      "[09:11:23] INFO: C:/buildkite-agent/builds/buildkite-windows-cpu-autoscaling-group-i-03de431ba26204c4d-1/xgboost/xgboost-ci-windows/src/tree/updater_prune.cc:98: tree pruning end, 126 extra nodes, 0 pruned nodes, max_depth=6\n",
      "[09:11:23] INFO: C:/buildkite-agent/builds/buildkite-windows-cpu-autoscaling-group-i-03de431ba26204c4d-1/xgboost/xgboost-ci-windows/src/tree/updater_prune.cc:98: tree pruning end, 126 extra nodes, 0 pruned nodes, max_depth=6\n",
      "[09:11:23] INFO: C:/buildkite-agent/builds/buildkite-windows-cpu-autoscaling-group-i-03de431ba26204c4d-1/xgboost/xgboost-ci-windows/src/tree/updater_prune.cc:98: tree pruning end, 64 extra nodes, 0 pruned nodes, max_depth=6\n",
      "[09:11:23] INFO: C:/buildkite-agent/builds/buildkite-windows-cpu-autoscaling-group-i-03de431ba26204c4d-1/xgboost/xgboost-ci-windows/src/tree/updater_prune.cc:98: tree pruning end, 64 extra nodes, 0 pruned nodes, max_depth=6\n",
      "[09:11:23] INFO: C:/buildkite-agent/builds/buildkite-windows-cpu-autoscaling-group-i-03de431ba26204c4d-1/xgboost/xgboost-ci-windows/src/tree/updater_prune.cc:98: tree pruning end, 110 extra nodes, 0 pruned nodes, max_depth=6\n",
      "[09:11:23] INFO: C:/buildkite-agent/builds/buildkite-windows-cpu-autoscaling-group-i-03de431ba26204c4d-1/xgboost/xgboost-ci-windows/src/tree/updater_prune.cc:98: tree pruning end, 90 extra nodes, 0 pruned nodes, max_depth=6\n",
      "[09:11:23] INFO: C:/buildkite-agent/builds/buildkite-windows-cpu-autoscaling-group-i-03de431ba26204c4d-1/xgboost/xgboost-ci-windows/src/tree/updater_prune.cc:98: tree pruning end, 54 extra nodes, 0 pruned nodes, max_depth=6\n",
      "[09:11:23] INFO: C:/buildkite-agent/builds/buildkite-windows-cpu-autoscaling-group-i-03de431ba26204c4d-1/xgboost/xgboost-ci-windows/src/tree/updater_prune.cc:98: tree pruning end, 36 extra nodes, 0 pruned nodes, max_depth=6\n",
      "[09:11:24] INFO: C:/buildkite-agent/builds/buildkite-windows-cpu-autoscaling-group-i-03de431ba26204c4d-1/xgboost/xgboost-ci-windows/src/tree/updater_prune.cc:98: tree pruning end, 120 extra nodes, 0 pruned nodes, max_depth=6\n",
      "[09:11:24] INFO: C:/buildkite-agent/builds/buildkite-windows-cpu-autoscaling-group-i-03de431ba26204c4d-1/xgboost/xgboost-ci-windows/src/tree/updater_prune.cc:98: tree pruning end, 98 extra nodes, 0 pruned nodes, max_depth=6\n",
      "[09:11:24] INFO: C:/buildkite-agent/builds/buildkite-windows-cpu-autoscaling-group-i-03de431ba26204c4d-1/xgboost/xgboost-ci-windows/src/tree/updater_prune.cc:98: tree pruning end, 50 extra nodes, 0 pruned nodes, max_depth=6\n",
      "[09:11:24] INFO: C:/buildkite-agent/builds/buildkite-windows-cpu-autoscaling-group-i-03de431ba26204c4d-1/xgboost/xgboost-ci-windows/src/tree/updater_prune.cc:98: tree pruning end, 30 extra nodes, 0 pruned nodes, max_depth=6\n",
      "[09:11:24] INFO: C:/buildkite-agent/builds/buildkite-windows-cpu-autoscaling-group-i-03de431ba26204c4d-1/xgboost/xgboost-ci-windows/src/tree/updater_prune.cc:98: tree pruning end, 16 extra nodes, 0 pruned nodes, max_depth=6\n",
      "[09:11:24] INFO: C:/buildkite-agent/builds/buildkite-windows-cpu-autoscaling-group-i-03de431ba26204c4d-1/xgboost/xgboost-ci-windows/src/tree/updater_prune.cc:98: tree pruning end, 120 extra nodes, 0 pruned nodes, max_depth=6\n",
      "[09:11:24] INFO: C:/buildkite-agent/builds/buildkite-windows-cpu-autoscaling-group-i-03de431ba26204c4d-1/xgboost/xgboost-ci-windows/src/tree/updater_prune.cc:98: tree pruning end, 120 extra nodes, 0 pruned nodes, max_depth=6\n",
      "[09:11:24] INFO: C:/buildkite-agent/builds/buildkite-windows-cpu-autoscaling-group-i-03de431ba26204c4d-1/xgboost/xgboost-ci-windows/src/tree/updater_prune.cc:98: tree pruning end, 120 extra nodes, 0 pruned nodes, max_depth=6\n",
      "[09:11:24] INFO: C:/buildkite-agent/builds/buildkite-windows-cpu-autoscaling-group-i-03de431ba26204c4d-1/xgboost/xgboost-ci-windows/src/tree/updater_prune.cc:98: tree pruning end, 122 extra nodes, 0 pruned nodes, max_depth=6\n",
      "[09:11:24] INFO: C:/buildkite-agent/builds/buildkite-windows-cpu-autoscaling-group-i-03de431ba26204c4d-1/xgboost/xgboost-ci-windows/src/tree/updater_prune.cc:98: tree pruning end, 112 extra nodes, 0 pruned nodes, max_depth=6\n",
      "[09:11:24] INFO: C:/buildkite-agent/builds/buildkite-windows-cpu-autoscaling-group-i-03de431ba26204c4d-1/xgboost/xgboost-ci-windows/src/tree/updater_prune.cc:98: tree pruning end, 76 extra nodes, 0 pruned nodes, max_depth=6\n",
      "[09:11:24] INFO: C:/buildkite-agent/builds/buildkite-windows-cpu-autoscaling-group-i-03de431ba26204c4d-1/xgboost/xgboost-ci-windows/src/tree/updater_prune.cc:98: tree pruning end, 86 extra nodes, 0 pruned nodes, max_depth=6\n",
      "[09:11:24] INFO: C:/buildkite-agent/builds/buildkite-windows-cpu-autoscaling-group-i-03de431ba26204c4d-1/xgboost/xgboost-ci-windows/src/tree/updater_prune.cc:98: tree pruning end, 110 extra nodes, 0 pruned nodes, max_depth=6\n",
      "[09:11:24] INFO: C:/buildkite-agent/builds/buildkite-windows-cpu-autoscaling-group-i-03de431ba26204c4d-1/xgboost/xgboost-ci-windows/src/tree/updater_prune.cc:98: tree pruning end, 92 extra nodes, 0 pruned nodes, max_depth=6\n",
      "[09:11:24] INFO: C:/buildkite-agent/builds/buildkite-windows-cpu-autoscaling-group-i-03de431ba26204c4d-1/xgboost/xgboost-ci-windows/src/tree/updater_prune.cc:98: tree pruning end, 80 extra nodes, 0 pruned nodes, max_depth=6\n",
      "[09:11:24] INFO: C:/buildkite-agent/builds/buildkite-windows-cpu-autoscaling-group-i-03de431ba26204c4d-1/xgboost/xgboost-ci-windows/src/tree/updater_prune.cc:98: tree pruning end, 108 extra nodes, 0 pruned nodes, max_depth=6\n",
      "[09:11:24] INFO: C:/buildkite-agent/builds/buildkite-windows-cpu-autoscaling-group-i-03de431ba26204c4d-1/xgboost/xgboost-ci-windows/src/tree/updater_prune.cc:98: tree pruning end, 108 extra nodes, 0 pruned nodes, max_depth=6\n",
      "[09:11:24] INFO: C:/buildkite-agent/builds/buildkite-windows-cpu-autoscaling-group-i-03de431ba26204c4d-1/xgboost/xgboost-ci-windows/src/tree/updater_prune.cc:98: tree pruning end, 94 extra nodes, 0 pruned nodes, max_depth=6\n",
      "[09:11:24] INFO: C:/buildkite-agent/builds/buildkite-windows-cpu-autoscaling-group-i-03de431ba26204c4d-1/xgboost/xgboost-ci-windows/src/tree/updater_prune.cc:98: tree pruning end, 86 extra nodes, 0 pruned nodes, max_depth=6\n",
      "[09:11:24] INFO: C:/buildkite-agent/builds/buildkite-windows-cpu-autoscaling-group-i-03de431ba26204c4d-1/xgboost/xgboost-ci-windows/src/tree/updater_prune.cc:98: tree pruning end, 118 extra nodes, 0 pruned nodes, max_depth=6\n",
      "[09:11:24] INFO: C:/buildkite-agent/builds/buildkite-windows-cpu-autoscaling-group-i-03de431ba26204c4d-1/xgboost/xgboost-ci-windows/src/tree/updater_prune.cc:98: tree pruning end, 54 extra nodes, 0 pruned nodes, max_depth=6\n",
      "[09:11:24] INFO: C:/buildkite-agent/builds/buildkite-windows-cpu-autoscaling-group-i-03de431ba26204c4d-1/xgboost/xgboost-ci-windows/src/tree/updater_prune.cc:98: tree pruning end, 120 extra nodes, 0 pruned nodes, max_depth=6\n"
     ]
    },
    {
     "data": {
      "text/plain": [
       "9.221644068454006"
      ]
     },
     "execution_count": 51,
     "metadata": {},
     "output_type": "execute_result"
    }
   ],
   "source": [
    "model = XGBClassifier(verbosity = 2, objective = 'binary:logistic')\n",
    "model.fit(X_train, y_train, eval_metric = \"logloss\")\n",
    "prediction = sup_vec_mac.predict(X_test)\n",
    "log_loss(y_true = y_test, y_pred = prediction)"
   ]
  },
  {
   "cell_type": "code",
   "execution_count": 52,
   "metadata": {},
   "outputs": [],
   "source": [
    "def split_data(X, y, frac: float = 0.2) -> tuple:\n",
    "    \"\"\"Splits data so that it returns a train / test split with a given fraction\"\"\"\n",
    "\n",
    "    # cutoff point for training / test split\n",
    "    idx_cutoff = int(X.shape[0] * (1 - frac))\n",
    "\n",
    "    X_train, X_test, y_train, y_test = X.iloc[:idx_cutoff], X.iloc[idx_cutoff:], y.iloc[:idx_cutoff], y.iloc[idx_cutoff:]\n",
    "\n",
    "    return X_train, X_test, y_train, y_test"
   ]
  },
  {
   "cell_type": "code",
   "execution_count": 53,
   "metadata": {},
   "outputs": [],
   "source": [
    "col_list_train = list(df.columns)\n",
    "col_list_train.remove('Diabetes')\n",
    "\n",
    "\n",
    "dfX_train = df[col_list_train]\n",
    "dfy_train = df['Diabetes']\n",
    "\n",
    "X_train, X_test, y_train, y_test = split_data(dfX_train, dfy_train, 0.2)\n",
    "\n",
    "# col_list_test = list(test.columns)\n",
    "# col_list_test.remove('Diabetes')\n",
    "\n",
    "\n",
    "\n",
    "# X_test = test[col_list_test]\n",
    "# y_test = test['Diabetes']"
   ]
  },
  {
   "cell_type": "code",
   "execution_count": 86,
   "metadata": {},
   "outputs": [
    {
     "name": "stderr",
     "output_type": "stream",
     "text": [
      "c:\\Users\\paulj\\Virtual_Environment_Python\\lib\\site-packages\\lightgbm\\sklearn.py:736: UserWarning: 'verbose' argument is deprecated and will be removed in a future release of LightGBM. Pass 'log_evaluation()' callback via 'callbacks' argument instead.\n",
      "  _log_warning(\"'verbose' argument is deprecated and will be removed in a future release of LightGBM. \"\n"
     ]
    },
    {
     "name": "stdout",
     "output_type": "stream",
     "text": [
      "[20]\ttraining's binary_logloss: 0.512471\tvalid_0's binary_logloss: 0.567238\n",
      "[40]\ttraining's binary_logloss: 0.495656\tvalid_0's binary_logloss: 0.559822\n",
      "[60]\ttraining's binary_logloss: 0.490399\tvalid_0's binary_logloss: 0.560458\n",
      "[80]\ttraining's binary_logloss: 0.486978\tvalid_0's binary_logloss: 0.56133\n",
      "[100]\ttraining's binary_logloss: 0.483974\tvalid_0's binary_logloss: 0.562379\n",
      "0.5623785025270797\n",
      "Training accuracy 0.7586\n",
      "Testing accuracy 0.7424\n"
     ]
    },
    {
     "data": {
      "text/plain": [
       "array([[0.56979908, 0.43020092],\n",
       "       [0.28909296, 0.71090704],\n",
       "       [0.12254752, 0.87745248],\n",
       "       ...,\n",
       "       [0.92873409, 0.07126591],\n",
       "       [0.90454723, 0.09545277],\n",
       "       [0.72134881, 0.27865119]])"
      ]
     },
     "execution_count": 86,
     "metadata": {},
     "output_type": "execute_result"
    },
    {
     "data": {
      "image/png": "[encoded data removed]",
      "text/plain": [
       "<Figure size 640x480 with 1 Axes>"
      ]
     },
     "metadata": {},
     "output_type": "display_data"
    }
   ],
   "source": [
    "lgbm = LGBMClassifier(objective = \"binary\", max_depth = -5)\n",
    "lgbm.fit(X_train,y_train, eval_set = [(X_test, y_test) , (X_train, y_train)], eval_metric = 'logloss', verbose = 20)\n",
    "prediction = lgbm.predict_proba(X_test)\n",
    "print(log_loss(y_true = y_test, y_pred = prediction))\n",
    "lgb.plot_importance(lgbm)\n",
    "print('Training accuracy {:.4f}'.format(lgbm.score(X_train,y_train)))\n",
    "print('Testing accuracy {:.4f}'.format(lgbm.score(X_test,y_test)))\n",
    "prediction"
   ]
  },
  {
   "cell_type": "code",
   "execution_count": 55,
   "metadata": {},
   "outputs": [
    {
     "data": {
      "text/plain": [
       "<AxesSubplot: title={'center': 'Metric during training'}, xlabel='Iterations', ylabel='binary_logloss'>"
      ]
     },
     "execution_count": 55,
     "metadata": {},
     "output_type": "execute_result"
    },
    {
     "data": {
      "image/png": "[encoded data removed]",
      "text/plain": [
       "<Figure size 640x480 with 1 Axes>"
      ]
     },
     "metadata": {},
     "output_type": "display_data"
    }
   ],
   "source": [
    "lgb.plot_metric(lgbm)\n"
   ]
  },
  {
   "cell_type": "code",
   "execution_count": 59,
   "metadata": {},
   "outputs": [],
   "source": [
    "col_list_train = list(df.columns)\n",
    "col_list_train.remove('Diabetes')\n",
    "# col_list_train.remove('Veggies')\n",
    "\n",
    "\n",
    "\n",
    "dfX_train = df[col_list_train]\n",
    "dfy_train = df['Diabetes']\n",
    "\n",
    "X_train, X_test, y_train, y_test = split_data(dfX_train, dfy_train, 0.2)"
   ]
  },
  {
   "cell_type": "code",
   "execution_count": 87,
   "metadata": {},
   "outputs": [
    {
     "name": "stderr",
     "output_type": "stream",
     "text": [
      "c:\\Users\\paulj\\Virtual_Environment_Python\\lib\\site-packages\\lightgbm\\sklearn.py:736: UserWarning: 'verbose' argument is deprecated and will be removed in a future release of LightGBM. Pass 'log_evaluation()' callback via 'callbacks' argument instead.\n",
      "  _log_warning(\"'verbose' argument is deprecated and will be removed in a future release of LightGBM. \"\n"
     ]
    },
    {
     "name": "stdout",
     "output_type": "stream",
     "text": [
      "[20]\ttraining's binary_logloss: 0.512471\tvalid_0's binary_logloss: 0.567238\n",
      "[40]\ttraining's binary_logloss: 0.495656\tvalid_0's binary_logloss: 0.559822\n",
      "[60]\ttraining's binary_logloss: 0.490399\tvalid_0's binary_logloss: 0.560458\n",
      "[80]\ttraining's binary_logloss: 0.486978\tvalid_0's binary_logloss: 0.56133\n",
      "[100]\ttraining's binary_logloss: 0.483974\tvalid_0's binary_logloss: 0.562379\n",
      "0.5623785025270797\n",
      "Training accuracy 0.7586\n",
      "Testing accuracy 0.7424\n"
     ]
    },
    {
     "data": {
      "text/plain": [
       "array([[0.56979908, 0.43020092],\n",
       "       [0.28909296, 0.71090704],\n",
       "       [0.12254752, 0.87745248],\n",
       "       ...,\n",
       "       [0.92873409, 0.07126591],\n",
       "       [0.90454723, 0.09545277],\n",
       "       [0.72134881, 0.27865119]])"
      ]
     },
     "execution_count": 87,
     "metadata": {},
     "output_type": "execute_result"
    },
    {
     "data": {
      "image/png": "[encoded data removed]",
      "text/plain": [
       "<Figure size 640x480 with 1 Axes>"
      ]
     },
     "metadata": {},
     "output_type": "display_data"
    }
   ],
   "source": [
    "stdScale = StandardScaler()\n",
    "stdScale.fit_transform(X_train)\n",
    "stdScale.transform(X_test)\n",
    "\n",
    "\n",
    "lgbm = LGBMClassifier(objective = \"binary\", max_depth = 30)\n",
    "lgbm.fit(X_train,y_train, eval_set = [(X_test, y_test) , (X_train, y_train)], eval_metric = 'logloss', verbose = 20)\n",
    "prediction = lgbm.predict_proba(X_test)\n",
    "print(log_loss(y_true = y_test, y_pred = prediction))\n",
    "lgb.plot_importance(lgbm)\n",
    "print('Training accuracy {:.4f}'.format(lgbm.score(X_train,y_train)))\n",
    "print('Testing accuracy {:.4f}'.format(lgbm.score(X_test,y_test)))\n",
    "prediction"
   ]
  },
  {
   "cell_type": "code",
   "execution_count": 72,
   "metadata": {},
   "outputs": [
    {
     "data": {
      "text/plain": [
       "<sklearn.inspection._plot.partial_dependence.PartialDependenceDisplay at 0x23abb8d4130>"
      ]
     },
     "execution_count": 72,
     "metadata": {},
     "output_type": "execute_result"
    },
    {
     "data": {
      "image/png": "[encoded data removed]",
      "text/plain": [
       "<Figure size 640x480 with 18 Axes>"
      ]
     },
     "metadata": {},
     "output_type": "display_data"
    }
   ],
   "source": [
    "from sklearn.inspection import partial_dependence\n",
    "from sklearn.inspection import PartialDependenceDisplay\n",
    "results = partial_dependence(lgbm, X_train, ['BMI'] )\n",
    "PartialDependenceDisplay.from_estimator(lgbm, X_train, col_list_train, kind = 'average')"
   ]
  },
  {
   "cell_type": "code",
   "execution_count": 73,
   "metadata": {},
   "outputs": [
    {
     "data": {
      "text/plain": [
       "['Age',\n",
       " 'Sex',\n",
       " 'HighChol',\n",
       " 'CholCheck',\n",
       " 'BMI',\n",
       " 'Smoker',\n",
       " 'HeartDiseaseorAttack',\n",
       " 'PhysActivity',\n",
       " 'Fruits',\n",
       " 'Veggies',\n",
       " 'HvyAlcoholConsump',\n",
       " 'GenHlth',\n",
       " 'MentHlth',\n",
       " 'PhysHlth',\n",
       " 'DiffWalk',\n",
       " 'Hypertension',\n",
       " 'Stroke']"
      ]
     },
     "execution_count": 73,
     "metadata": {},
     "output_type": "execute_result"
    }
   ],
   "source": [
    "col_list_train"
   ]
  },
  {
   "cell_type": "code",
   "execution_count": 78,
   "metadata": {},
   "outputs": [
    {
     "data": {
      "text/plain": [
       "<sklearn.inspection._plot.partial_dependence.PartialDependenceDisplay at 0x23ac2692170>"
      ]
     },
     "execution_count": 78,
     "metadata": {},
     "output_type": "execute_result"
    },
    {
     "data": {
      "image/png": "[encoded data removed]",
      "text/plain": [
       "<Figure size 640x480 with 2 Axes>"
      ]
     },
     "metadata": {},
     "output_type": "display_data"
    }
   ],
   "source": [
    "PartialDependenceDisplay.from_estimator(lgbm, X_train, ['Veggies'], kind = 'average')"
   ]
  },
  {
   "cell_type": "code",
   "execution_count": 83,
   "metadata": {},
   "outputs": [
    {
     "name": "stderr",
     "output_type": "stream",
     "text": [
      "c:\\Users\\paulj\\Virtual_Environment_Python\\lib\\site-packages\\lightgbm\\sklearn.py:736: UserWarning: 'verbose' argument is deprecated and will be removed in a future release of LightGBM. Pass 'log_evaluation()' callback via 'callbacks' argument instead.\n",
      "  _log_warning(\"'verbose' argument is deprecated and will be removed in a future release of LightGBM. \"\n"
     ]
    },
    {
     "name": "stdout",
     "output_type": "stream",
     "text": [
      "[20]\ttraining's binary_logloss: 0.682952\tvalid_0's binary_logloss: 0.737028\n",
      "[40]\ttraining's binary_logloss: 0.677502\tvalid_0's binary_logloss: 0.731423\n",
      "[60]\ttraining's binary_logloss: 0.672249\tvalid_0's binary_logloss: 0.726001\n",
      "[80]\ttraining's binary_logloss: 0.667185\tvalid_0's binary_logloss: 0.720778\n",
      "[100]\ttraining's binary_logloss: 0.662306\tvalid_0's binary_logloss: 0.715755\n"
     ]
    },
    {
     "name": "stderr",
     "output_type": "stream",
     "text": [
      "c:\\Users\\paulj\\Virtual_Environment_Python\\lib\\site-packages\\lightgbm\\sklearn.py:736: UserWarning: 'verbose' argument is deprecated and will be removed in a future release of LightGBM. Pass 'log_evaluation()' callback via 'callbacks' argument instead.\n",
      "  _log_warning(\"'verbose' argument is deprecated and will be removed in a future release of LightGBM. \"\n"
     ]
    },
    {
     "name": "stdout",
     "output_type": "stream",
     "text": [
      "[20]\ttraining's binary_logloss: 0.677497\tvalid_0's binary_logloss: 0.731417\n",
      "[40]\ttraining's binary_logloss: 0.667176\tvalid_0's binary_logloss: 0.720768\n",
      "[60]\ttraining's binary_logloss: 0.65759\tvalid_0's binary_logloss: 0.710907\n",
      "[80]\ttraining's binary_logloss: 0.648677\tvalid_0's binary_logloss: 0.701751\n",
      "[100]\ttraining's binary_logloss: 0.640377\tvalid_0's binary_logloss: 0.693252\n"
     ]
    },
    {
     "name": "stderr",
     "output_type": "stream",
     "text": [
      "c:\\Users\\paulj\\Virtual_Environment_Python\\lib\\site-packages\\lightgbm\\sklearn.py:736: UserWarning: 'verbose' argument is deprecated and will be removed in a future release of LightGBM. Pass 'log_evaluation()' callback via 'callbacks' argument instead.\n",
      "  _log_warning(\"'verbose' argument is deprecated and will be removed in a future release of LightGBM. \"\n"
     ]
    },
    {
     "name": "stdout",
     "output_type": "stream",
     "text": [
      "[20]\ttraining's binary_logloss: 0.672235\tvalid_0's binary_logloss: 0.725981\n",
      "[40]\ttraining's binary_logloss: 0.657577\tvalid_0's binary_logloss: 0.710887\n",
      "[60]\ttraining's binary_logloss: 0.644437\tvalid_0's binary_logloss: 0.697397\n",
      "[80]\ttraining's binary_logloss: 0.632618\tvalid_0's binary_logloss: 0.685337\n",
      "[100]\ttraining's binary_logloss: 0.621935\tvalid_0's binary_logloss: 0.674457\n"
     ]
    },
    {
     "name": "stderr",
     "output_type": "stream",
     "text": [
      "c:\\Users\\paulj\\Virtual_Environment_Python\\lib\\site-packages\\lightgbm\\sklearn.py:736: UserWarning: 'verbose' argument is deprecated and will be removed in a future release of LightGBM. Pass 'log_evaluation()' callback via 'callbacks' argument instead.\n",
      "  _log_warning(\"'verbose' argument is deprecated and will be removed in a future release of LightGBM. \"\n"
     ]
    },
    {
     "name": "stdout",
     "output_type": "stream",
     "text": [
      "[20]\ttraining's binary_logloss: 0.667159\tvalid_0's binary_logloss: 0.72074\n",
      "[40]\ttraining's binary_logloss: 0.648645\tvalid_0's binary_logloss: 0.701696\n",
      "[60]\ttraining's binary_logloss: 0.632594\tvalid_0's binary_logloss: 0.685306\n",
      "[80]\ttraining's binary_logloss: 0.618579\tvalid_0's binary_logloss: 0.671031\n",
      "[100]\ttraining's binary_logloss: 0.606287\tvalid_0's binary_logloss: 0.658533\n"
     ]
    },
    {
     "name": "stderr",
     "output_type": "stream",
     "text": [
      "c:\\Users\\paulj\\Virtual_Environment_Python\\lib\\site-packages\\lightgbm\\sklearn.py:736: UserWarning: 'verbose' argument is deprecated and will be removed in a future release of LightGBM. Pass 'log_evaluation()' callback via 'callbacks' argument instead.\n",
      "  _log_warning(\"'verbose' argument is deprecated and will be removed in a future release of LightGBM. \"\n"
     ]
    },
    {
     "name": "stdout",
     "output_type": "stream",
     "text": [
      "[20]\ttraining's binary_logloss: 0.66226\tvalid_0's binary_logloss: 0.715704\n",
      "[40]\ttraining's binary_logloss: 0.640321\tvalid_0's binary_logloss: 0.693167\n",
      "[60]\ttraining's binary_logloss: 0.621893\tvalid_0's binary_logloss: 0.67439\n",
      "[80]\ttraining's binary_logloss: 0.606257\tvalid_0's binary_logloss: 0.658513\n",
      "[100]\ttraining's binary_logloss: 0.592868\tvalid_0's binary_logloss: 0.644985\n"
     ]
    },
    {
     "name": "stderr",
     "output_type": "stream",
     "text": [
      "c:\\Users\\paulj\\Virtual_Environment_Python\\lib\\site-packages\\lightgbm\\sklearn.py:736: UserWarning: 'verbose' argument is deprecated and will be removed in a future release of LightGBM. Pass 'log_evaluation()' callback via 'callbacks' argument instead.\n",
      "  _log_warning(\"'verbose' argument is deprecated and will be removed in a future release of LightGBM. \"\n"
     ]
    },
    {
     "name": "stdout",
     "output_type": "stream",
     "text": [
      "[20]\ttraining's binary_logloss: 0.657541\tvalid_0's binary_logloss: 0.710846\n",
      "[40]\ttraining's binary_logloss: 0.632559\tvalid_0's binary_logloss: 0.685283\n",
      "[60]\ttraining's binary_logloss: 0.612192\tvalid_0's binary_logloss: 0.66453\n",
      "[80]\ttraining's binary_logloss: 0.595356\tvalid_0's binary_logloss: 0.647507\n",
      "[100]\ttraining's binary_logloss: 0.581371\tvalid_0's binary_logloss: 0.633514\n"
     ]
    },
    {
     "name": "stderr",
     "output_type": "stream",
     "text": [
      "c:\\Users\\paulj\\Virtual_Environment_Python\\lib\\site-packages\\lightgbm\\sklearn.py:736: UserWarning: 'verbose' argument is deprecated and will be removed in a future release of LightGBM. Pass 'log_evaluation()' callback via 'callbacks' argument instead.\n",
      "  _log_warning(\"'verbose' argument is deprecated and will be removed in a future release of LightGBM. \"\n"
     ]
    },
    {
     "name": "stdout",
     "output_type": "stream",
     "text": [
      "[20]\ttraining's binary_logloss: 0.652981\tvalid_0's binary_logloss: 0.706145\n",
      "[40]\ttraining's binary_logloss: 0.625288\tvalid_0's binary_logloss: 0.677875\n",
      "[60]\ttraining's binary_logloss: 0.603373\tvalid_0's binary_logloss: 0.655633\n",
      "[80]\ttraining's binary_logloss: 0.585731\tvalid_0's binary_logloss: 0.637836\n",
      "[100]\ttraining's binary_logloss: 0.57147\tvalid_0's binary_logloss: 0.62366\n"
     ]
    },
    {
     "name": "stderr",
     "output_type": "stream",
     "text": [
      "c:\\Users\\paulj\\Virtual_Environment_Python\\lib\\site-packages\\lightgbm\\sklearn.py:736: UserWarning: 'verbose' argument is deprecated and will be removed in a future release of LightGBM. Pass 'log_evaluation()' callback via 'callbacks' argument instead.\n",
      "  _log_warning(\"'verbose' argument is deprecated and will be removed in a future release of LightGBM. \"\n"
     ]
    },
    {
     "name": "stdout",
     "output_type": "stream",
     "text": [
      "[20]\ttraining's binary_logloss: 0.648585\tvalid_0's binary_logloss: 0.701632\n",
      "[40]\ttraining's binary_logloss: 0.618496\tvalid_0's binary_logloss: 0.670928\n",
      "[60]\ttraining's binary_logloss: 0.595303\tvalid_0's binary_logloss: 0.647424\n",
      "[80]\ttraining's binary_logloss: 0.577203\tvalid_0's binary_logloss: 0.629303\n",
      "[100]\ttraining's binary_logloss: 0.5629\tvalid_0's binary_logloss: 0.61502\n"
     ]
    },
    {
     "name": "stderr",
     "output_type": "stream",
     "text": [
      "c:\\Users\\paulj\\Virtual_Environment_Python\\lib\\site-packages\\lightgbm\\sklearn.py:736: UserWarning: 'verbose' argument is deprecated and will be removed in a future release of LightGBM. Pass 'log_evaluation()' callback via 'callbacks' argument instead.\n",
      "  _log_warning(\"'verbose' argument is deprecated and will be removed in a future release of LightGBM. \"\n"
     ]
    },
    {
     "name": "stdout",
     "output_type": "stream",
     "text": [
      "[20]\ttraining's binary_logloss: 0.644336\tvalid_0's binary_logloss: 0.697277\n",
      "[40]\ttraining's binary_logloss: 0.612136\tvalid_0's binary_logloss: 0.664438\n",
      "[60]\ttraining's binary_logloss: 0.587976\tvalid_0's binary_logloss: 0.640025\n",
      "[80]\ttraining's binary_logloss: 0.569615\tvalid_0's binary_logloss: 0.621743\n",
      "[100]\ttraining's binary_logloss: 0.555462\tvalid_0's binary_logloss: 0.607607\n"
     ]
    },
    {
     "name": "stderr",
     "output_type": "stream",
     "text": [
      "c:\\Users\\paulj\\Virtual_Environment_Python\\lib\\site-packages\\lightgbm\\sklearn.py:736: UserWarning: 'verbose' argument is deprecated and will be removed in a future release of LightGBM. Pass 'log_evaluation()' callback via 'callbacks' argument instead.\n",
      "  _log_warning(\"'verbose' argument is deprecated and will be removed in a future release of LightGBM. \"\n"
     ]
    },
    {
     "name": "stdout",
     "output_type": "stream",
     "text": [
      "[20]\ttraining's binary_logloss: 0.640234\tvalid_0's binary_logloss: 0.693089\n",
      "[40]\ttraining's binary_logloss: 0.606152\tvalid_0's binary_logloss: 0.658398\n",
      "[60]\ttraining's binary_logloss: 0.581277\tvalid_0's binary_logloss: 0.633431\n",
      "[80]\ttraining's binary_logloss: 0.562849\tvalid_0's binary_logloss: 0.614998\n",
      "[100]\ttraining's binary_logloss: 0.548912\tvalid_0's binary_logloss: 0.600885\n"
     ]
    },
    {
     "name": "stderr",
     "output_type": "stream",
     "text": [
      "c:\\Users\\paulj\\Virtual_Environment_Python\\lib\\site-packages\\lightgbm\\sklearn.py:736: UserWarning: 'verbose' argument is deprecated and will be removed in a future release of LightGBM. Pass 'log_evaluation()' callback via 'callbacks' argument instead.\n",
      "  _log_warning(\"'verbose' argument is deprecated and will be removed in a future release of LightGBM. \"\n"
     ]
    },
    {
     "name": "stdout",
     "output_type": "stream",
     "text": [
      "[20]\ttraining's binary_logloss: 0.636268\tvalid_0's binary_logloss: 0.689018\n",
      "[40]\ttraining's binary_logloss: 0.600515\tvalid_0's binary_logloss: 0.652675\n",
      "[60]\ttraining's binary_logloss: 0.575161\tvalid_0's binary_logloss: 0.627381\n",
      "[80]\ttraining's binary_logloss: 0.556829\tvalid_0's binary_logloss: 0.609027\n",
      "[100]\ttraining's binary_logloss: 0.5432\tvalid_0's binary_logloss: 0.595221\n"
     ]
    },
    {
     "name": "stderr",
     "output_type": "stream",
     "text": [
      "c:\\Users\\paulj\\Virtual_Environment_Python\\lib\\site-packages\\lightgbm\\sklearn.py:736: UserWarning: 'verbose' argument is deprecated and will be removed in a future release of LightGBM. Pass 'log_evaluation()' callback via 'callbacks' argument instead.\n",
      "  _log_warning(\"'verbose' argument is deprecated and will be removed in a future release of LightGBM. \"\n"
     ]
    },
    {
     "name": "stdout",
     "output_type": "stream",
     "text": [
      "[20]\ttraining's binary_logloss: 0.632437\tvalid_0's binary_logloss: 0.685141\n",
      "[40]\ttraining's binary_logloss: 0.59519\tvalid_0's binary_logloss: 0.647325\n",
      "[60]\ttraining's binary_logloss: 0.569547\tvalid_0's binary_logloss: 0.621691\n",
      "[80]\ttraining's binary_logloss: 0.551382\tvalid_0's binary_logloss: 0.603386\n",
      "[100]\ttraining's binary_logloss: 0.538209\tvalid_0's binary_logloss: 0.590365\n"
     ]
    },
    {
     "name": "stderr",
     "output_type": "stream",
     "text": [
      "c:\\Users\\paulj\\Virtual_Environment_Python\\lib\\site-packages\\lightgbm\\sklearn.py:736: UserWarning: 'verbose' argument is deprecated and will be removed in a future release of LightGBM. Pass 'log_evaluation()' callback via 'callbacks' argument instead.\n",
      "  _log_warning(\"'verbose' argument is deprecated and will be removed in a future release of LightGBM. \"\n"
     ]
    },
    {
     "name": "stdout",
     "output_type": "stream",
     "text": [
      "[20]\ttraining's binary_logloss: 0.628735\tvalid_0's binary_logloss: 0.681358\n",
      "[40]\ttraining's binary_logloss: 0.590224\tvalid_0's binary_logloss: 0.642321\n",
      "[60]\ttraining's binary_logloss: 0.564393\tvalid_0's binary_logloss: 0.616429\n",
      "[80]\ttraining's binary_logloss: 0.546497\tvalid_0's binary_logloss: 0.598428\n",
      "[100]\ttraining's binary_logloss: 0.533784\tvalid_0's binary_logloss: 0.586134\n"
     ]
    },
    {
     "name": "stderr",
     "output_type": "stream",
     "text": [
      "c:\\Users\\paulj\\Virtual_Environment_Python\\lib\\site-packages\\lightgbm\\sklearn.py:736: UserWarning: 'verbose' argument is deprecated and will be removed in a future release of LightGBM. Pass 'log_evaluation()' callback via 'callbacks' argument instead.\n",
      "  _log_warning(\"'verbose' argument is deprecated and will be removed in a future release of LightGBM. \"\n"
     ]
    },
    {
     "name": "stdout",
     "output_type": "stream",
     "text": [
      "[20]\ttraining's binary_logloss: 0.625143\tvalid_0's binary_logloss: 0.677689\n",
      "[40]\ttraining's binary_logloss: 0.585574\tvalid_0's binary_logloss: 0.637556\n",
      "[60]\ttraining's binary_logloss: 0.559667\tvalid_0's binary_logloss: 0.611814\n",
      "[80]\ttraining's binary_logloss: 0.542075\tvalid_0's binary_logloss: 0.594134\n",
      "[100]\ttraining's binary_logloss: 0.52985\tvalid_0's binary_logloss: 0.582507\n"
     ]
    },
    {
     "name": "stderr",
     "output_type": "stream",
     "text": [
      "c:\\Users\\paulj\\Virtual_Environment_Python\\lib\\site-packages\\lightgbm\\sklearn.py:736: UserWarning: 'verbose' argument is deprecated and will be removed in a future release of LightGBM. Pass 'log_evaluation()' callback via 'callbacks' argument instead.\n",
      "  _log_warning(\"'verbose' argument is deprecated and will be removed in a future release of LightGBM. \"\n"
     ]
    },
    {
     "name": "stdout",
     "output_type": "stream",
     "text": [
      "[20]\ttraining's binary_logloss: 0.621682\tvalid_0's binary_logloss: 0.674163\n",
      "[40]\ttraining's binary_logloss: 0.581156\tvalid_0's binary_logloss: 0.633199\n",
      "[60]\ttraining's binary_logloss: 0.555337\tvalid_0's binary_logloss: 0.607442\n",
      "[80]\ttraining's binary_logloss: 0.538153\tvalid_0's binary_logloss: 0.590211\n",
      "[100]\ttraining's binary_logloss: 0.526372\tvalid_0's binary_logloss: 0.579197\n"
     ]
    },
    {
     "name": "stderr",
     "output_type": "stream",
     "text": [
      "c:\\Users\\paulj\\Virtual_Environment_Python\\lib\\site-packages\\lightgbm\\sklearn.py:736: UserWarning: 'verbose' argument is deprecated and will be removed in a future release of LightGBM. Pass 'log_evaluation()' callback via 'callbacks' argument instead.\n",
      "  _log_warning(\"'verbose' argument is deprecated and will be removed in a future release of LightGBM. \"\n"
     ]
    },
    {
     "name": "stdout",
     "output_type": "stream",
     "text": [
      "[20]\ttraining's binary_logloss: 0.618314\tvalid_0's binary_logloss: 0.670746\n",
      "[40]\ttraining's binary_logloss: 0.57703\tvalid_0's binary_logloss: 0.628975\n",
      "[60]\ttraining's binary_logloss: 0.551324\tvalid_0's binary_logloss: 0.603312\n",
      "[80]\ttraining's binary_logloss: 0.534597\tvalid_0's binary_logloss: 0.586887\n",
      "[100]\ttraining's binary_logloss: 0.52314\tvalid_0's binary_logloss: 0.576419\n"
     ]
    },
    {
     "name": "stderr",
     "output_type": "stream",
     "text": [
      "c:\\Users\\paulj\\Virtual_Environment_Python\\lib\\site-packages\\lightgbm\\sklearn.py:736: UserWarning: 'verbose' argument is deprecated and will be removed in a future release of LightGBM. Pass 'log_evaluation()' callback via 'callbacks' argument instead.\n",
      "  _log_warning(\"'verbose' argument is deprecated and will be removed in a future release of LightGBM. \"\n"
     ]
    },
    {
     "name": "stdout",
     "output_type": "stream",
     "text": [
      "[20]\ttraining's binary_logloss: 0.615062\tvalid_0's binary_logloss: 0.667373\n",
      "[40]\ttraining's binary_logloss: 0.573081\tvalid_0's binary_logloss: 0.625176\n",
      "[60]\ttraining's binary_logloss: 0.547575\tvalid_0's binary_logloss: 0.599485\n",
      "[80]\ttraining's binary_logloss: 0.531307\tvalid_0's binary_logloss: 0.583848\n",
      "[100]\ttraining's binary_logloss: 0.520293\tvalid_0's binary_logloss: 0.573884\n"
     ]
    },
    {
     "name": "stderr",
     "output_type": "stream",
     "text": [
      "c:\\Users\\paulj\\Virtual_Environment_Python\\lib\\site-packages\\lightgbm\\sklearn.py:736: UserWarning: 'verbose' argument is deprecated and will be removed in a future release of LightGBM. Pass 'log_evaluation()' callback via 'callbacks' argument instead.\n",
      "  _log_warning(\"'verbose' argument is deprecated and will be removed in a future release of LightGBM. \"\n"
     ]
    },
    {
     "name": "stdout",
     "output_type": "stream",
     "text": [
      "[20]\ttraining's binary_logloss: 0.611922\tvalid_0's binary_logloss: 0.664231\n",
      "[40]\ttraining's binary_logloss: 0.569404\tvalid_0's binary_logloss: 0.621481\n",
      "[60]\ttraining's binary_logloss: 0.54415\tvalid_0's binary_logloss: 0.596142\n",
      "[80]\ttraining's binary_logloss: 0.528377\tvalid_0's binary_logloss: 0.580994\n",
      "[100]\ttraining's binary_logloss: 0.517706\tvalid_0's binary_logloss: 0.571666\n"
     ]
    },
    {
     "name": "stderr",
     "output_type": "stream",
     "text": [
      "c:\\Users\\paulj\\Virtual_Environment_Python\\lib\\site-packages\\lightgbm\\sklearn.py:736: UserWarning: 'verbose' argument is deprecated and will be removed in a future release of LightGBM. Pass 'log_evaluation()' callback via 'callbacks' argument instead.\n",
      "  _log_warning(\"'verbose' argument is deprecated and will be removed in a future release of LightGBM. \"\n"
     ]
    },
    {
     "name": "stdout",
     "output_type": "stream",
     "text": [
      "[20]\ttraining's binary_logloss: 0.608879\tvalid_0's binary_logloss: 0.661018\n",
      "[40]\ttraining's binary_logloss: 0.565897\tvalid_0's binary_logloss: 0.617967\n",
      "[60]\ttraining's binary_logloss: 0.540983\tvalid_0's binary_logloss: 0.593015\n",
      "[80]\ttraining's binary_logloss: 0.52563\tvalid_0's binary_logloss: 0.578534\n",
      "[100]\ttraining's binary_logloss: 0.51537\tvalid_0's binary_logloss: 0.56983\n"
     ]
    },
    {
     "name": "stderr",
     "output_type": "stream",
     "text": [
      "c:\\Users\\paulj\\Virtual_Environment_Python\\lib\\site-packages\\lightgbm\\sklearn.py:736: UserWarning: 'verbose' argument is deprecated and will be removed in a future release of LightGBM. Pass 'log_evaluation()' callback via 'callbacks' argument instead.\n",
      "  _log_warning(\"'verbose' argument is deprecated and will be removed in a future release of LightGBM. \"\n"
     ]
    },
    {
     "name": "stdout",
     "output_type": "stream",
     "text": [
      "[20]\ttraining's binary_logloss: 0.605908\tvalid_0's binary_logloss: 0.658095\n",
      "[40]\ttraining's binary_logloss: 0.562611\tvalid_0's binary_logloss: 0.614798\n",
      "[60]\ttraining's binary_logloss: 0.538051\tvalid_0's binary_logloss: 0.590078\n",
      "[80]\ttraining's binary_logloss: 0.523088\tvalid_0's binary_logloss: 0.576359\n",
      "[100]\ttraining's binary_logloss: 0.513334\tvalid_0's binary_logloss: 0.568188\n"
     ]
    },
    {
     "name": "stderr",
     "output_type": "stream",
     "text": [
      "c:\\Users\\paulj\\Virtual_Environment_Python\\lib\\site-packages\\lightgbm\\sklearn.py:736: UserWarning: 'verbose' argument is deprecated and will be removed in a future release of LightGBM. Pass 'log_evaluation()' callback via 'callbacks' argument instead.\n",
      "  _log_warning(\"'verbose' argument is deprecated and will be removed in a future release of LightGBM. \"\n"
     ]
    },
    {
     "name": "stdout",
     "output_type": "stream",
     "text": [
      "[20]\ttraining's binary_logloss: 0.603034\tvalid_0's binary_logloss: 0.65512\n",
      "[40]\ttraining's binary_logloss: 0.559503\tvalid_0's binary_logloss: 0.611666\n",
      "[60]\ttraining's binary_logloss: 0.535375\tvalid_0's binary_logloss: 0.587626\n",
      "[80]\ttraining's binary_logloss: 0.520773\tvalid_0's binary_logloss: 0.574377\n",
      "[100]\ttraining's binary_logloss: 0.511472\tvalid_0's binary_logloss: 0.56679\n"
     ]
    },
    {
     "name": "stderr",
     "output_type": "stream",
     "text": [
      "c:\\Users\\paulj\\Virtual_Environment_Python\\lib\\site-packages\\lightgbm\\sklearn.py:736: UserWarning: 'verbose' argument is deprecated and will be removed in a future release of LightGBM. Pass 'log_evaluation()' callback via 'callbacks' argument instead.\n",
      "  _log_warning(\"'verbose' argument is deprecated and will be removed in a future release of LightGBM. \"\n"
     ]
    },
    {
     "name": "stdout",
     "output_type": "stream",
     "text": [
      "[20]\ttraining's binary_logloss: 0.600242\tvalid_0's binary_logloss: 0.652336\n",
      "[40]\ttraining's binary_logloss: 0.556569\tvalid_0's binary_logloss: 0.608594\n",
      "[60]\ttraining's binary_logloss: 0.532822\tvalid_0's binary_logloss: 0.58518\n",
      "[80]\ttraining's binary_logloss: 0.518691\tvalid_0's binary_logloss: 0.572503\n",
      "[100]\ttraining's binary_logloss: 0.509823\tvalid_0's binary_logloss: 0.565583\n"
     ]
    },
    {
     "name": "stderr",
     "output_type": "stream",
     "text": [
      "c:\\Users\\paulj\\Virtual_Environment_Python\\lib\\site-packages\\lightgbm\\sklearn.py:736: UserWarning: 'verbose' argument is deprecated and will be removed in a future release of LightGBM. Pass 'log_evaluation()' callback via 'callbacks' argument instead.\n",
      "  _log_warning(\"'verbose' argument is deprecated and will be removed in a future release of LightGBM. \"\n"
     ]
    },
    {
     "name": "stdout",
     "output_type": "stream",
     "text": [
      "[20]\ttraining's binary_logloss: 0.59753\tvalid_0's binary_logloss: 0.649621\n",
      "[40]\ttraining's binary_logloss: 0.553772\tvalid_0's binary_logloss: 0.605819\n",
      "[60]\ttraining's binary_logloss: 0.530448\tvalid_0's binary_logloss: 0.582941\n",
      "[80]\ttraining's binary_logloss: 0.516684\tvalid_0's binary_logloss: 0.570924\n",
      "[100]\ttraining's binary_logloss: 0.508296\tvalid_0's binary_logloss: 0.564833\n"
     ]
    },
    {
     "name": "stderr",
     "output_type": "stream",
     "text": [
      "c:\\Users\\paulj\\Virtual_Environment_Python\\lib\\site-packages\\lightgbm\\sklearn.py:736: UserWarning: 'verbose' argument is deprecated and will be removed in a future release of LightGBM. Pass 'log_evaluation()' callback via 'callbacks' argument instead.\n",
      "  _log_warning(\"'verbose' argument is deprecated and will be removed in a future release of LightGBM. \"\n"
     ]
    },
    {
     "name": "stdout",
     "output_type": "stream",
     "text": [
      "[20]\ttraining's binary_logloss: 0.594927\tvalid_0's binary_logloss: 0.647006\n",
      "[40]\ttraining's binary_logloss: 0.551159\tvalid_0's binary_logloss: 0.603089\n",
      "[60]\ttraining's binary_logloss: 0.528361\tvalid_0's binary_logloss: 0.581067\n",
      "[80]\ttraining's binary_logloss: 0.514918\tvalid_0's binary_logloss: 0.569482\n",
      "[100]\ttraining's binary_logloss: 0.506952\tvalid_0's binary_logloss: 0.563829\n"
     ]
    },
    {
     "name": "stderr",
     "output_type": "stream",
     "text": [
      "c:\\Users\\paulj\\Virtual_Environment_Python\\lib\\site-packages\\lightgbm\\sklearn.py:736: UserWarning: 'verbose' argument is deprecated and will be removed in a future release of LightGBM. Pass 'log_evaluation()' callback via 'callbacks' argument instead.\n",
      "  _log_warning(\"'verbose' argument is deprecated and will be removed in a future release of LightGBM. \"\n"
     ]
    },
    {
     "name": "stdout",
     "output_type": "stream",
     "text": [
      "[20]\ttraining's binary_logloss: 0.592402\tvalid_0's binary_logloss: 0.644406\n",
      "[40]\ttraining's binary_logloss: 0.548597\tvalid_0's binary_logloss: 0.600394\n",
      "[60]\ttraining's binary_logloss: 0.526254\tvalid_0's binary_logloss: 0.579153\n",
      "[80]\ttraining's binary_logloss: 0.513258\tvalid_0's binary_logloss: 0.568151\n",
      "[100]\ttraining's binary_logloss: 0.505736\tvalid_0's binary_logloss: 0.563153\n"
     ]
    },
    {
     "name": "stderr",
     "output_type": "stream",
     "text": [
      "c:\\Users\\paulj\\Virtual_Environment_Python\\lib\\site-packages\\lightgbm\\sklearn.py:736: UserWarning: 'verbose' argument is deprecated and will be removed in a future release of LightGBM. Pass 'log_evaluation()' callback via 'callbacks' argument instead.\n",
      "  _log_warning(\"'verbose' argument is deprecated and will be removed in a future release of LightGBM. \"\n"
     ]
    },
    {
     "name": "stdout",
     "output_type": "stream",
     "text": [
      "[20]\ttraining's binary_logloss: 0.589907\tvalid_0's binary_logloss: 0.641819\n",
      "[40]\ttraining's binary_logloss: 0.546239\tvalid_0's binary_logloss: 0.598107\n",
      "[60]\ttraining's binary_logloss: 0.524244\tvalid_0's binary_logloss: 0.577314\n",
      "[80]\ttraining's binary_logloss: 0.511778\tvalid_0's binary_logloss: 0.566961\n",
      "[100]\ttraining's binary_logloss: 0.504644\tvalid_0's binary_logloss: 0.562444\n"
     ]
    },
    {
     "name": "stderr",
     "output_type": "stream",
     "text": [
      "c:\\Users\\paulj\\Virtual_Environment_Python\\lib\\site-packages\\lightgbm\\sklearn.py:736: UserWarning: 'verbose' argument is deprecated and will be removed in a future release of LightGBM. Pass 'log_evaluation()' callback via 'callbacks' argument instead.\n",
      "  _log_warning(\"'verbose' argument is deprecated and will be removed in a future release of LightGBM. \"\n"
     ]
    },
    {
     "name": "stdout",
     "output_type": "stream",
     "text": [
      "[20]\ttraining's binary_logloss: 0.587529\tvalid_0's binary_logloss: 0.639522\n",
      "[40]\ttraining's binary_logloss: 0.543936\tvalid_0's binary_logloss: 0.595944\n",
      "[60]\ttraining's binary_logloss: 0.522366\tvalid_0's binary_logloss: 0.575744\n",
      "[80]\ttraining's binary_logloss: 0.510383\tvalid_0's binary_logloss: 0.566086\n",
      "[100]\ttraining's binary_logloss: 0.503631\tvalid_0's binary_logloss: 0.562072\n"
     ]
    },
    {
     "name": "stderr",
     "output_type": "stream",
     "text": [
      "c:\\Users\\paulj\\Virtual_Environment_Python\\lib\\site-packages\\lightgbm\\sklearn.py:736: UserWarning: 'verbose' argument is deprecated and will be removed in a future release of LightGBM. Pass 'log_evaluation()' callback via 'callbacks' argument instead.\n",
      "  _log_warning(\"'verbose' argument is deprecated and will be removed in a future release of LightGBM. \"\n"
     ]
    },
    {
     "name": "stdout",
     "output_type": "stream",
     "text": [
      "[20]\ttraining's binary_logloss: 0.585185\tvalid_0's binary_logloss: 0.637318\n",
      "[40]\ttraining's binary_logloss: 0.541848\tvalid_0's binary_logloss: 0.593839\n",
      "[60]\ttraining's binary_logloss: 0.520671\tvalid_0's binary_logloss: 0.574222\n",
      "[80]\ttraining's binary_logloss: 0.509163\tvalid_0's binary_logloss: 0.56511\n",
      "[100]\ttraining's binary_logloss: 0.502713\tvalid_0's binary_logloss: 0.561555\n"
     ]
    },
    {
     "name": "stderr",
     "output_type": "stream",
     "text": [
      "c:\\Users\\paulj\\Virtual_Environment_Python\\lib\\site-packages\\lightgbm\\sklearn.py:736: UserWarning: 'verbose' argument is deprecated and will be removed in a future release of LightGBM. Pass 'log_evaluation()' callback via 'callbacks' argument instead.\n",
      "  _log_warning(\"'verbose' argument is deprecated and will be removed in a future release of LightGBM. \"\n"
     ]
    },
    {
     "name": "stdout",
     "output_type": "stream",
     "text": [
      "[20]\ttraining's binary_logloss: 0.582954\tvalid_0's binary_logloss: 0.634957\n",
      "[40]\ttraining's binary_logloss: 0.539785\tvalid_0's binary_logloss: 0.591803\n",
      "[60]\ttraining's binary_logloss: 0.519077\tvalid_0's binary_logloss: 0.572737\n",
      "[80]\ttraining's binary_logloss: 0.507944\tvalid_0's binary_logloss: 0.564448\n",
      "[100]\ttraining's binary_logloss: 0.501831\tvalid_0's binary_logloss: 0.56125\n"
     ]
    },
    {
     "name": "stderr",
     "output_type": "stream",
     "text": [
      "c:\\Users\\paulj\\Virtual_Environment_Python\\lib\\site-packages\\lightgbm\\sklearn.py:736: UserWarning: 'verbose' argument is deprecated and will be removed in a future release of LightGBM. Pass 'log_evaluation()' callback via 'callbacks' argument instead.\n",
      "  _log_warning(\"'verbose' argument is deprecated and will be removed in a future release of LightGBM. \"\n"
     ]
    },
    {
     "name": "stdout",
     "output_type": "stream",
     "text": [
      "[20]\ttraining's binary_logloss: 0.580784\tvalid_0's binary_logloss: 0.63292\n",
      "[40]\ttraining's binary_logloss: 0.537903\tvalid_0's binary_logloss: 0.589774\n",
      "[60]\ttraining's binary_logloss: 0.517566\tvalid_0's binary_logloss: 0.571376\n",
      "[80]\ttraining's binary_logloss: 0.506926\tvalid_0's binary_logloss: 0.563538\n",
      "[100]\ttraining's binary_logloss: 0.501007\tvalid_0's binary_logloss: 0.560941\n"
     ]
    },
    {
     "name": "stderr",
     "output_type": "stream",
     "text": [
      "c:\\Users\\paulj\\Virtual_Environment_Python\\lib\\site-packages\\lightgbm\\sklearn.py:736: UserWarning: 'verbose' argument is deprecated and will be removed in a future release of LightGBM. Pass 'log_evaluation()' callback via 'callbacks' argument instead.\n",
      "  _log_warning(\"'verbose' argument is deprecated and will be removed in a future release of LightGBM. \"\n"
     ]
    },
    {
     "name": "stdout",
     "output_type": "stream",
     "text": [
      "[20]\ttraining's binary_logloss: 0.578623\tvalid_0's binary_logloss: 0.630606\n",
      "[40]\ttraining's binary_logloss: 0.536079\tvalid_0's binary_logloss: 0.588091\n",
      "[60]\ttraining's binary_logloss: 0.516071\tvalid_0's binary_logloss: 0.570197\n",
      "[80]\ttraining's binary_logloss: 0.505899\tvalid_0's binary_logloss: 0.563248\n",
      "[100]\ttraining's binary_logloss: 0.500286\tvalid_0's binary_logloss: 0.560647\n"
     ]
    },
    {
     "name": "stderr",
     "output_type": "stream",
     "text": [
      "c:\\Users\\paulj\\Virtual_Environment_Python\\lib\\site-packages\\lightgbm\\sklearn.py:736: UserWarning: 'verbose' argument is deprecated and will be removed in a future release of LightGBM. Pass 'log_evaluation()' callback via 'callbacks' argument instead.\n",
      "  _log_warning(\"'verbose' argument is deprecated and will be removed in a future release of LightGBM. \"\n"
     ]
    },
    {
     "name": "stdout",
     "output_type": "stream",
     "text": [
      "[20]\ttraining's binary_logloss: 0.57661\tvalid_0's binary_logloss: 0.628719\n",
      "[40]\ttraining's binary_logloss: 0.534237\tvalid_0's binary_logloss: 0.586492\n",
      "[60]\ttraining's binary_logloss: 0.514816\tvalid_0's binary_logloss: 0.569395\n",
      "[80]\ttraining's binary_logloss: 0.505024\tvalid_0's binary_logloss: 0.563015\n",
      "[100]\ttraining's binary_logloss: 0.499661\tvalid_0's binary_logloss: 0.560449\n"
     ]
    },
    {
     "name": "stderr",
     "output_type": "stream",
     "text": [
      "c:\\Users\\paulj\\Virtual_Environment_Python\\lib\\site-packages\\lightgbm\\sklearn.py:736: UserWarning: 'verbose' argument is deprecated and will be removed in a future release of LightGBM. Pass 'log_evaluation()' callback via 'callbacks' argument instead.\n",
      "  _log_warning(\"'verbose' argument is deprecated and will be removed in a future release of LightGBM. \"\n"
     ]
    },
    {
     "name": "stdout",
     "output_type": "stream",
     "text": [
      "[20]\ttraining's binary_logloss: 0.574629\tvalid_0's binary_logloss: 0.626638\n",
      "[40]\ttraining's binary_logloss: 0.532641\tvalid_0's binary_logloss: 0.584897\n",
      "[60]\ttraining's binary_logloss: 0.513577\tvalid_0's binary_logloss: 0.5681\n",
      "[80]\ttraining's binary_logloss: 0.504173\tvalid_0's binary_logloss: 0.562277\n",
      "[100]\ttraining's binary_logloss: 0.499051\tvalid_0's binary_logloss: 0.560231\n"
     ]
    },
    {
     "name": "stderr",
     "output_type": "stream",
     "text": [
      "c:\\Users\\paulj\\Virtual_Environment_Python\\lib\\site-packages\\lightgbm\\sklearn.py:736: UserWarning: 'verbose' argument is deprecated and will be removed in a future release of LightGBM. Pass 'log_evaluation()' callback via 'callbacks' argument instead.\n",
      "  _log_warning(\"'verbose' argument is deprecated and will be removed in a future release of LightGBM. \"\n"
     ]
    },
    {
     "name": "stdout",
     "output_type": "stream",
     "text": [
      "[20]\ttraining's binary_logloss: 0.572638\tvalid_0's binary_logloss: 0.624629\n",
      "[40]\ttraining's binary_logloss: 0.531032\tvalid_0's binary_logloss: 0.583516\n",
      "[60]\ttraining's binary_logloss: 0.51238\tvalid_0's binary_logloss: 0.567397\n",
      "[80]\ttraining's binary_logloss: 0.503381\tvalid_0's binary_logloss: 0.562027\n",
      "[100]\ttraining's binary_logloss: 0.498449\tvalid_0's binary_logloss: 0.560084\n"
     ]
    },
    {
     "name": "stderr",
     "output_type": "stream",
     "text": [
      "c:\\Users\\paulj\\Virtual_Environment_Python\\lib\\site-packages\\lightgbm\\sklearn.py:736: UserWarning: 'verbose' argument is deprecated and will be removed in a future release of LightGBM. Pass 'log_evaluation()' callback via 'callbacks' argument instead.\n",
      "  _log_warning(\"'verbose' argument is deprecated and will be removed in a future release of LightGBM. \"\n"
     ]
    },
    {
     "name": "stdout",
     "output_type": "stream",
     "text": [
      "[20]\ttraining's binary_logloss: 0.57083\tvalid_0's binary_logloss: 0.622872\n",
      "[40]\ttraining's binary_logloss: 0.529592\tvalid_0's binary_logloss: 0.581929\n",
      "[60]\ttraining's binary_logloss: 0.511372\tvalid_0's binary_logloss: 0.566429\n",
      "[80]\ttraining's binary_logloss: 0.50266\tvalid_0's binary_logloss: 0.561605\n",
      "[100]\ttraining's binary_logloss: 0.497928\tvalid_0's binary_logloss: 0.559787\n"
     ]
    },
    {
     "name": "stderr",
     "output_type": "stream",
     "text": [
      "c:\\Users\\paulj\\Virtual_Environment_Python\\lib\\site-packages\\lightgbm\\sklearn.py:736: UserWarning: 'verbose' argument is deprecated and will be removed in a future release of LightGBM. Pass 'log_evaluation()' callback via 'callbacks' argument instead.\n",
      "  _log_warning(\"'verbose' argument is deprecated and will be removed in a future release of LightGBM. \"\n"
     ]
    },
    {
     "name": "stdout",
     "output_type": "stream",
     "text": [
      "[20]\ttraining's binary_logloss: 0.56902\tvalid_0's binary_logloss: 0.62087\n",
      "[40]\ttraining's binary_logloss: 0.528114\tvalid_0's binary_logloss: 0.580858\n",
      "[60]\ttraining's binary_logloss: 0.510312\tvalid_0's binary_logloss: 0.565927\n",
      "[80]\ttraining's binary_logloss: 0.501963\tvalid_0's binary_logloss: 0.561286\n",
      "[100]\ttraining's binary_logloss: 0.497444\tvalid_0's binary_logloss: 0.559934\n"
     ]
    },
    {
     "name": "stderr",
     "output_type": "stream",
     "text": [
      "c:\\Users\\paulj\\Virtual_Environment_Python\\lib\\site-packages\\lightgbm\\sklearn.py:736: UserWarning: 'verbose' argument is deprecated and will be removed in a future release of LightGBM. Pass 'log_evaluation()' callback via 'callbacks' argument instead.\n",
      "  _log_warning(\"'verbose' argument is deprecated and will be removed in a future release of LightGBM. \"\n"
     ]
    },
    {
     "name": "stdout",
     "output_type": "stream",
     "text": [
      "[20]\ttraining's binary_logloss: 0.567202\tvalid_0's binary_logloss: 0.619168\n",
      "[40]\ttraining's binary_logloss: 0.526736\tvalid_0's binary_logloss: 0.57952\n",
      "[60]\ttraining's binary_logloss: 0.509375\tvalid_0's binary_logloss: 0.565321\n",
      "[80]\ttraining's binary_logloss: 0.5013\tvalid_0's binary_logloss: 0.561318\n",
      "[100]\ttraining's binary_logloss: 0.496991\tvalid_0's binary_logloss: 0.559884\n"
     ]
    },
    {
     "name": "stderr",
     "output_type": "stream",
     "text": [
      "c:\\Users\\paulj\\Virtual_Environment_Python\\lib\\site-packages\\lightgbm\\sklearn.py:736: UserWarning: 'verbose' argument is deprecated and will be removed in a future release of LightGBM. Pass 'log_evaluation()' callback via 'callbacks' argument instead.\n",
      "  _log_warning(\"'verbose' argument is deprecated and will be removed in a future release of LightGBM. \"\n"
     ]
    },
    {
     "name": "stdout",
     "output_type": "stream",
     "text": [
      "[20]\ttraining's binary_logloss: 0.56547\tvalid_0's binary_logloss: 0.61744\n",
      "[40]\ttraining's binary_logloss: 0.525343\tvalid_0's binary_logloss: 0.578098\n",
      "[60]\ttraining's binary_logloss: 0.508437\tvalid_0's binary_logloss: 0.564572\n",
      "[80]\ttraining's binary_logloss: 0.500711\tvalid_0's binary_logloss: 0.560673\n",
      "[100]\ttraining's binary_logloss: 0.496549\tvalid_0's binary_logloss: 0.559568\n"
     ]
    },
    {
     "name": "stderr",
     "output_type": "stream",
     "text": [
      "c:\\Users\\paulj\\Virtual_Environment_Python\\lib\\site-packages\\lightgbm\\sklearn.py:736: UserWarning: 'verbose' argument is deprecated and will be removed in a future release of LightGBM. Pass 'log_evaluation()' callback via 'callbacks' argument instead.\n",
      "  _log_warning(\"'verbose' argument is deprecated and will be removed in a future release of LightGBM. \"\n"
     ]
    },
    {
     "name": "stdout",
     "output_type": "stream",
     "text": [
      "[20]\ttraining's binary_logloss: 0.563752\tvalid_0's binary_logloss: 0.615721\n",
      "[40]\ttraining's binary_logloss: 0.524011\tvalid_0's binary_logloss: 0.577003\n",
      "[60]\ttraining's binary_logloss: 0.507646\tvalid_0's binary_logloss: 0.564265\n",
      "[80]\ttraining's binary_logloss: 0.500185\tvalid_0's binary_logloss: 0.560739\n",
      "[100]\ttraining's binary_logloss: 0.496123\tvalid_0's binary_logloss: 0.559834\n"
     ]
    },
    {
     "name": "stderr",
     "output_type": "stream",
     "text": [
      "c:\\Users\\paulj\\Virtual_Environment_Python\\lib\\site-packages\\lightgbm\\sklearn.py:736: UserWarning: 'verbose' argument is deprecated and will be removed in a future release of LightGBM. Pass 'log_evaluation()' callback via 'callbacks' argument instead.\n",
      "  _log_warning(\"'verbose' argument is deprecated and will be removed in a future release of LightGBM. \"\n"
     ]
    },
    {
     "name": "stdout",
     "output_type": "stream",
     "text": [
      "[20]\ttraining's binary_logloss: 0.562134\tvalid_0's binary_logloss: 0.613991\n",
      "[40]\ttraining's binary_logloss: 0.522797\tvalid_0's binary_logloss: 0.575934\n",
      "[60]\ttraining's binary_logloss: 0.506846\tvalid_0's binary_logloss: 0.56362\n",
      "[80]\ttraining's binary_logloss: 0.499614\tvalid_0's binary_logloss: 0.560352\n",
      "[100]\ttraining's binary_logloss: 0.49577\tvalid_0's binary_logloss: 0.559597\n"
     ]
    },
    {
     "name": "stderr",
     "output_type": "stream",
     "text": [
      "c:\\Users\\paulj\\Virtual_Environment_Python\\lib\\site-packages\\lightgbm\\sklearn.py:736: UserWarning: 'verbose' argument is deprecated and will be removed in a future release of LightGBM. Pass 'log_evaluation()' callback via 'callbacks' argument instead.\n",
      "  _log_warning(\"'verbose' argument is deprecated and will be removed in a future release of LightGBM. \"\n"
     ]
    },
    {
     "name": "stdout",
     "output_type": "stream",
     "text": [
      "[20]\ttraining's binary_logloss: 0.560582\tvalid_0's binary_logloss: 0.612494\n",
      "[40]\ttraining's binary_logloss: 0.521625\tvalid_0's binary_logloss: 0.574952\n",
      "[60]\ttraining's binary_logloss: 0.506158\tvalid_0's binary_logloss: 0.563055\n",
      "[80]\ttraining's binary_logloss: 0.499129\tvalid_0's binary_logloss: 0.560303\n",
      "[100]\ttraining's binary_logloss: 0.495456\tvalid_0's binary_logloss: 0.559684\n"
     ]
    },
    {
     "name": "stderr",
     "output_type": "stream",
     "text": [
      "c:\\Users\\paulj\\Virtual_Environment_Python\\lib\\site-packages\\lightgbm\\sklearn.py:736: UserWarning: 'verbose' argument is deprecated and will be removed in a future release of LightGBM. Pass 'log_evaluation()' callback via 'callbacks' argument instead.\n",
      "  _log_warning(\"'verbose' argument is deprecated and will be removed in a future release of LightGBM. \"\n"
     ]
    },
    {
     "name": "stdout",
     "output_type": "stream",
     "text": [
      "[20]\ttraining's binary_logloss: 0.559088\tvalid_0's binary_logloss: 0.611106\n",
      "[40]\ttraining's binary_logloss: 0.520495\tvalid_0's binary_logloss: 0.574121\n",
      "[60]\ttraining's binary_logloss: 0.505431\tvalid_0's binary_logloss: 0.563159\n",
      "[80]\ttraining's binary_logloss: 0.498633\tvalid_0's binary_logloss: 0.560291\n",
      "[100]\ttraining's binary_logloss: 0.495081\tvalid_0's binary_logloss: 0.559606\n"
     ]
    },
    {
     "name": "stderr",
     "output_type": "stream",
     "text": [
      "c:\\Users\\paulj\\Virtual_Environment_Python\\lib\\site-packages\\lightgbm\\sklearn.py:736: UserWarning: 'verbose' argument is deprecated and will be removed in a future release of LightGBM. Pass 'log_evaluation()' callback via 'callbacks' argument instead.\n",
      "  _log_warning(\"'verbose' argument is deprecated and will be removed in a future release of LightGBM. \"\n"
     ]
    },
    {
     "name": "stdout",
     "output_type": "stream",
     "text": [
      "[20]\ttraining's binary_logloss: 0.557503\tvalid_0's binary_logloss: 0.60948\n",
      "[40]\ttraining's binary_logloss: 0.519413\tvalid_0's binary_logloss: 0.573114\n",
      "[60]\ttraining's binary_logloss: 0.504723\tvalid_0's binary_logloss: 0.562832\n",
      "[80]\ttraining's binary_logloss: 0.498216\tvalid_0's binary_logloss: 0.56042\n",
      "[100]\ttraining's binary_logloss: 0.494726\tvalid_0's binary_logloss: 0.559795\n"
     ]
    },
    {
     "name": "stderr",
     "output_type": "stream",
     "text": [
      "c:\\Users\\paulj\\Virtual_Environment_Python\\lib\\site-packages\\lightgbm\\sklearn.py:736: UserWarning: 'verbose' argument is deprecated and will be removed in a future release of LightGBM. Pass 'log_evaluation()' callback via 'callbacks' argument instead.\n",
      "  _log_warning(\"'verbose' argument is deprecated and will be removed in a future release of LightGBM. \"\n"
     ]
    },
    {
     "name": "stdout",
     "output_type": "stream",
     "text": [
      "[20]\ttraining's binary_logloss: 0.556106\tvalid_0's binary_logloss: 0.6082\n",
      "[40]\ttraining's binary_logloss: 0.518359\tvalid_0's binary_logloss: 0.572286\n",
      "[60]\ttraining's binary_logloss: 0.50411\tvalid_0's binary_logloss: 0.562572\n",
      "[80]\ttraining's binary_logloss: 0.49782\tvalid_0's binary_logloss: 0.560184\n",
      "[100]\ttraining's binary_logloss: 0.494455\tvalid_0's binary_logloss: 0.559904\n"
     ]
    },
    {
     "name": "stderr",
     "output_type": "stream",
     "text": [
      "c:\\Users\\paulj\\Virtual_Environment_Python\\lib\\site-packages\\lightgbm\\sklearn.py:736: UserWarning: 'verbose' argument is deprecated and will be removed in a future release of LightGBM. Pass 'log_evaluation()' callback via 'callbacks' argument instead.\n",
      "  _log_warning(\"'verbose' argument is deprecated and will be removed in a future release of LightGBM. \"\n"
     ]
    },
    {
     "name": "stdout",
     "output_type": "stream",
     "text": [
      "[20]\ttraining's binary_logloss: 0.554664\tvalid_0's binary_logloss: 0.606571\n",
      "[40]\ttraining's binary_logloss: 0.517315\tvalid_0's binary_logloss: 0.571381\n",
      "[60]\ttraining's binary_logloss: 0.503514\tvalid_0's binary_logloss: 0.562239\n",
      "[80]\ttraining's binary_logloss: 0.497386\tvalid_0's binary_logloss: 0.559839\n",
      "[100]\ttraining's binary_logloss: 0.494086\tvalid_0's binary_logloss: 0.559922\n"
     ]
    },
    {
     "name": "stderr",
     "output_type": "stream",
     "text": [
      "c:\\Users\\paulj\\Virtual_Environment_Python\\lib\\site-packages\\lightgbm\\sklearn.py:736: UserWarning: 'verbose' argument is deprecated and will be removed in a future release of LightGBM. Pass 'log_evaluation()' callback via 'callbacks' argument instead.\n",
      "  _log_warning(\"'verbose' argument is deprecated and will be removed in a future release of LightGBM. \"\n"
     ]
    },
    {
     "name": "stdout",
     "output_type": "stream",
     "text": [
      "[20]\ttraining's binary_logloss: 0.55324\tvalid_0's binary_logloss: 0.605056\n",
      "[40]\ttraining's binary_logloss: 0.516373\tvalid_0's binary_logloss: 0.570525\n",
      "[60]\ttraining's binary_logloss: 0.50292\tvalid_0's binary_logloss: 0.561565\n",
      "[80]\ttraining's binary_logloss: 0.497023\tvalid_0's binary_logloss: 0.559627\n",
      "[100]\ttraining's binary_logloss: 0.493762\tvalid_0's binary_logloss: 0.559591\n"
     ]
    },
    {
     "name": "stderr",
     "output_type": "stream",
     "text": [
      "c:\\Users\\paulj\\Virtual_Environment_Python\\lib\\site-packages\\lightgbm\\sklearn.py:736: UserWarning: 'verbose' argument is deprecated and will be removed in a future release of LightGBM. Pass 'log_evaluation()' callback via 'callbacks' argument instead.\n",
      "  _log_warning(\"'verbose' argument is deprecated and will be removed in a future release of LightGBM. \"\n"
     ]
    },
    {
     "name": "stdout",
     "output_type": "stream",
     "text": [
      "[20]\ttraining's binary_logloss: 0.55189\tvalid_0's binary_logloss: 0.603686\n",
      "[40]\ttraining's binary_logloss: 0.515521\tvalid_0's binary_logloss: 0.569676\n",
      "[60]\ttraining's binary_logloss: 0.502379\tvalid_0's binary_logloss: 0.561591\n",
      "[80]\ttraining's binary_logloss: 0.496688\tvalid_0's binary_logloss: 0.559711\n",
      "[100]\ttraining's binary_logloss: 0.493473\tvalid_0's binary_logloss: 0.559552\n"
     ]
    },
    {
     "name": "stderr",
     "output_type": "stream",
     "text": [
      "c:\\Users\\paulj\\Virtual_Environment_Python\\lib\\site-packages\\lightgbm\\sklearn.py:736: UserWarning: 'verbose' argument is deprecated and will be removed in a future release of LightGBM. Pass 'log_evaluation()' callback via 'callbacks' argument instead.\n",
      "  _log_warning(\"'verbose' argument is deprecated and will be removed in a future release of LightGBM. \"\n"
     ]
    },
    {
     "name": "stdout",
     "output_type": "stream",
     "text": [
      "[20]\ttraining's binary_logloss: 0.550618\tvalid_0's binary_logloss: 0.602478\n",
      "[40]\ttraining's binary_logloss: 0.514647\tvalid_0's binary_logloss: 0.569359\n",
      "[60]\ttraining's binary_logloss: 0.501908\tvalid_0's binary_logloss: 0.561518\n",
      "[80]\ttraining's binary_logloss: 0.496382\tvalid_0's binary_logloss: 0.55997\n",
      "[100]\ttraining's binary_logloss: 0.493284\tvalid_0's binary_logloss: 0.559727\n"
     ]
    },
    {
     "name": "stderr",
     "output_type": "stream",
     "text": [
      "c:\\Users\\paulj\\Virtual_Environment_Python\\lib\\site-packages\\lightgbm\\sklearn.py:736: UserWarning: 'verbose' argument is deprecated and will be removed in a future release of LightGBM. Pass 'log_evaluation()' callback via 'callbacks' argument instead.\n",
      "  _log_warning(\"'verbose' argument is deprecated and will be removed in a future release of LightGBM. \"\n"
     ]
    },
    {
     "name": "stdout",
     "output_type": "stream",
     "text": [
      "[20]\ttraining's binary_logloss: 0.549325\tvalid_0's binary_logloss: 0.601151\n",
      "[40]\ttraining's binary_logloss: 0.513823\tvalid_0's binary_logloss: 0.568565\n",
      "[60]\ttraining's binary_logloss: 0.501533\tvalid_0's binary_logloss: 0.561213\n",
      "[80]\ttraining's binary_logloss: 0.496137\tvalid_0's binary_logloss: 0.559665\n",
      "[100]\ttraining's binary_logloss: 0.493132\tvalid_0's binary_logloss: 0.559716\n"
     ]
    },
    {
     "name": "stderr",
     "output_type": "stream",
     "text": [
      "c:\\Users\\paulj\\Virtual_Environment_Python\\lib\\site-packages\\lightgbm\\sklearn.py:736: UserWarning: 'verbose' argument is deprecated and will be removed in a future release of LightGBM. Pass 'log_evaluation()' callback via 'callbacks' argument instead.\n",
      "  _log_warning(\"'verbose' argument is deprecated and will be removed in a future release of LightGBM. \"\n"
     ]
    },
    {
     "name": "stdout",
     "output_type": "stream",
     "text": [
      "[20]\ttraining's binary_logloss: 0.54813\tvalid_0's binary_logloss: 0.600141\n",
      "[40]\ttraining's binary_logloss: 0.512967\tvalid_0's binary_logloss: 0.567861\n",
      "[60]\ttraining's binary_logloss: 0.500911\tvalid_0's binary_logloss: 0.561116\n",
      "[80]\ttraining's binary_logloss: 0.495697\tvalid_0's binary_logloss: 0.559601\n",
      "[100]\ttraining's binary_logloss: 0.492784\tvalid_0's binary_logloss: 0.560042\n"
     ]
    },
    {
     "name": "stderr",
     "output_type": "stream",
     "text": [
      "c:\\Users\\paulj\\Virtual_Environment_Python\\lib\\site-packages\\lightgbm\\sklearn.py:736: UserWarning: 'verbose' argument is deprecated and will be removed in a future release of LightGBM. Pass 'log_evaluation()' callback via 'callbacks' argument instead.\n",
      "  _log_warning(\"'verbose' argument is deprecated and will be removed in a future release of LightGBM. \"\n"
     ]
    },
    {
     "name": "stdout",
     "output_type": "stream",
     "text": [
      "[20]\ttraining's binary_logloss: 0.546942\tvalid_0's binary_logloss: 0.59841\n",
      "[40]\ttraining's binary_logloss: 0.512229\tvalid_0's binary_logloss: 0.567297\n",
      "[60]\ttraining's binary_logloss: 0.500494\tvalid_0's binary_logloss: 0.560587\n",
      "[80]\ttraining's binary_logloss: 0.495523\tvalid_0's binary_logloss: 0.559608\n",
      "[100]\ttraining's binary_logloss: 0.492544\tvalid_0's binary_logloss: 0.559628\n"
     ]
    },
    {
     "name": "stderr",
     "output_type": "stream",
     "text": [
      "c:\\Users\\paulj\\Virtual_Environment_Python\\lib\\site-packages\\lightgbm\\sklearn.py:736: UserWarning: 'verbose' argument is deprecated and will be removed in a future release of LightGBM. Pass 'log_evaluation()' callback via 'callbacks' argument instead.\n",
      "  _log_warning(\"'verbose' argument is deprecated and will be removed in a future release of LightGBM. \"\n"
     ]
    },
    {
     "name": "stdout",
     "output_type": "stream",
     "text": [
      "[20]\ttraining's binary_logloss: 0.545752\tvalid_0's binary_logloss: 0.597504\n",
      "[40]\ttraining's binary_logloss: 0.511551\tvalid_0's binary_logloss: 0.566569\n",
      "[60]\ttraining's binary_logloss: 0.500128\tvalid_0's binary_logloss: 0.560834\n",
      "[80]\ttraining's binary_logloss: 0.495201\tvalid_0's binary_logloss: 0.559915\n",
      "[100]\ttraining's binary_logloss: 0.492191\tvalid_0's binary_logloss: 0.559743\n"
     ]
    },
    {
     "name": "stderr",
     "output_type": "stream",
     "text": [
      "c:\\Users\\paulj\\Virtual_Environment_Python\\lib\\site-packages\\lightgbm\\sklearn.py:736: UserWarning: 'verbose' argument is deprecated and will be removed in a future release of LightGBM. Pass 'log_evaluation()' callback via 'callbacks' argument instead.\n",
      "  _log_warning(\"'verbose' argument is deprecated and will be removed in a future release of LightGBM. \"\n"
     ]
    },
    {
     "name": "stdout",
     "output_type": "stream",
     "text": [
      "[20]\ttraining's binary_logloss: 0.544527\tvalid_0's binary_logloss: 0.596093\n",
      "[40]\ttraining's binary_logloss: 0.510753\tvalid_0's binary_logloss: 0.566306\n",
      "[60]\ttraining's binary_logloss: 0.499714\tvalid_0's binary_logloss: 0.56046\n",
      "[80]\ttraining's binary_logloss: 0.49499\tvalid_0's binary_logloss: 0.559458\n",
      "[100]\ttraining's binary_logloss: 0.492139\tvalid_0's binary_logloss: 0.559966\n"
     ]
    },
    {
     "name": "stderr",
     "output_type": "stream",
     "text": [
      "c:\\Users\\paulj\\Virtual_Environment_Python\\lib\\site-packages\\lightgbm\\sklearn.py:736: UserWarning: 'verbose' argument is deprecated and will be removed in a future release of LightGBM. Pass 'log_evaluation()' callback via 'callbacks' argument instead.\n",
      "  _log_warning(\"'verbose' argument is deprecated and will be removed in a future release of LightGBM. \"\n"
     ]
    },
    {
     "name": "stdout",
     "output_type": "stream",
     "text": [
      "[20]\ttraining's binary_logloss: 0.54347\tvalid_0's binary_logloss: 0.595215\n",
      "[40]\ttraining's binary_logloss: 0.510233\tvalid_0's binary_logloss: 0.565611\n",
      "[60]\ttraining's binary_logloss: 0.499226\tvalid_0's binary_logloss: 0.56069\n",
      "[80]\ttraining's binary_logloss: 0.494615\tvalid_0's binary_logloss: 0.559643\n",
      "[100]\ttraining's binary_logloss: 0.491774\tvalid_0's binary_logloss: 0.559874\n"
     ]
    },
    {
     "name": "stderr",
     "output_type": "stream",
     "text": [
      "c:\\Users\\paulj\\Virtual_Environment_Python\\lib\\site-packages\\lightgbm\\sklearn.py:736: UserWarning: 'verbose' argument is deprecated and will be removed in a future release of LightGBM. Pass 'log_evaluation()' callback via 'callbacks' argument instead.\n",
      "  _log_warning(\"'verbose' argument is deprecated and will be removed in a future release of LightGBM. \"\n"
     ]
    },
    {
     "name": "stdout",
     "output_type": "stream",
     "text": [
      "[20]\ttraining's binary_logloss: 0.542316\tvalid_0's binary_logloss: 0.594051\n",
      "[40]\ttraining's binary_logloss: 0.509401\tvalid_0's binary_logloss: 0.565256\n",
      "[60]\ttraining's binary_logloss: 0.498954\tvalid_0's binary_logloss: 0.560517\n",
      "[80]\ttraining's binary_logloss: 0.494354\tvalid_0's binary_logloss: 0.5599\n",
      "[100]\ttraining's binary_logloss: 0.491563\tvalid_0's binary_logloss: 0.560236\n"
     ]
    },
    {
     "name": "stderr",
     "output_type": "stream",
     "text": [
      "c:\\Users\\paulj\\Virtual_Environment_Python\\lib\\site-packages\\lightgbm\\sklearn.py:736: UserWarning: 'verbose' argument is deprecated and will be removed in a future release of LightGBM. Pass 'log_evaluation()' callback via 'callbacks' argument instead.\n",
      "  _log_warning(\"'verbose' argument is deprecated and will be removed in a future release of LightGBM. \"\n"
     ]
    },
    {
     "name": "stdout",
     "output_type": "stream",
     "text": [
      "[20]\ttraining's binary_logloss: 0.541262\tvalid_0's binary_logloss: 0.593273\n",
      "[40]\ttraining's binary_logloss: 0.508871\tvalid_0's binary_logloss: 0.564943\n",
      "[60]\ttraining's binary_logloss: 0.498561\tvalid_0's binary_logloss: 0.560369\n",
      "[80]\ttraining's binary_logloss: 0.4942\tvalid_0's binary_logloss: 0.559811\n",
      "[100]\ttraining's binary_logloss: 0.491316\tvalid_0's binary_logloss: 0.55982\n"
     ]
    },
    {
     "name": "stderr",
     "output_type": "stream",
     "text": [
      "c:\\Users\\paulj\\Virtual_Environment_Python\\lib\\site-packages\\lightgbm\\sklearn.py:736: UserWarning: 'verbose' argument is deprecated and will be removed in a future release of LightGBM. Pass 'log_evaluation()' callback via 'callbacks' argument instead.\n",
      "  _log_warning(\"'verbose' argument is deprecated and will be removed in a future release of LightGBM. \"\n"
     ]
    },
    {
     "name": "stdout",
     "output_type": "stream",
     "text": [
      "[20]\ttraining's binary_logloss: 0.540267\tvalid_0's binary_logloss: 0.592125\n",
      "[40]\ttraining's binary_logloss: 0.508311\tvalid_0's binary_logloss: 0.564543\n",
      "[60]\ttraining's binary_logloss: 0.498278\tvalid_0's binary_logloss: 0.560111\n",
      "[80]\ttraining's binary_logloss: 0.493984\tvalid_0's binary_logloss: 0.559642\n",
      "[100]\ttraining's binary_logloss: 0.4912\tvalid_0's binary_logloss: 0.5602\n"
     ]
    },
    {
     "name": "stderr",
     "output_type": "stream",
     "text": [
      "c:\\Users\\paulj\\Virtual_Environment_Python\\lib\\site-packages\\lightgbm\\sklearn.py:736: UserWarning: 'verbose' argument is deprecated and will be removed in a future release of LightGBM. Pass 'log_evaluation()' callback via 'callbacks' argument instead.\n",
      "  _log_warning(\"'verbose' argument is deprecated and will be removed in a future release of LightGBM. \"\n"
     ]
    },
    {
     "name": "stdout",
     "output_type": "stream",
     "text": [
      "[20]\ttraining's binary_logloss: 0.539217\tvalid_0's binary_logloss: 0.591064\n",
      "[40]\ttraining's binary_logloss: 0.507734\tvalid_0's binary_logloss: 0.564274\n",
      "[60]\ttraining's binary_logloss: 0.498066\tvalid_0's binary_logloss: 0.560113\n",
      "[80]\ttraining's binary_logloss: 0.493833\tvalid_0's binary_logloss: 0.559999\n",
      "[100]\ttraining's binary_logloss: 0.491002\tvalid_0's binary_logloss: 0.560108\n"
     ]
    },
    {
     "name": "stderr",
     "output_type": "stream",
     "text": [
      "c:\\Users\\paulj\\Virtual_Environment_Python\\lib\\site-packages\\lightgbm\\sklearn.py:736: UserWarning: 'verbose' argument is deprecated and will be removed in a future release of LightGBM. Pass 'log_evaluation()' callback via 'callbacks' argument instead.\n",
      "  _log_warning(\"'verbose' argument is deprecated and will be removed in a future release of LightGBM. \"\n"
     ]
    },
    {
     "name": "stdout",
     "output_type": "stream",
     "text": [
      "[20]\ttraining's binary_logloss: 0.538272\tvalid_0's binary_logloss: 0.589879\n",
      "[40]\ttraining's binary_logloss: 0.507191\tvalid_0's binary_logloss: 0.564036\n",
      "[60]\ttraining's binary_logloss: 0.497621\tvalid_0's binary_logloss: 0.559988\n",
      "[80]\ttraining's binary_logloss: 0.493513\tvalid_0's binary_logloss: 0.559953\n",
      "[100]\ttraining's binary_logloss: 0.490719\tvalid_0's binary_logloss: 0.560146\n"
     ]
    },
    {
     "name": "stderr",
     "output_type": "stream",
     "text": [
      "c:\\Users\\paulj\\Virtual_Environment_Python\\lib\\site-packages\\lightgbm\\sklearn.py:736: UserWarning: 'verbose' argument is deprecated and will be removed in a future release of LightGBM. Pass 'log_evaluation()' callback via 'callbacks' argument instead.\n",
      "  _log_warning(\"'verbose' argument is deprecated and will be removed in a future release of LightGBM. \"\n"
     ]
    },
    {
     "name": "stdout",
     "output_type": "stream",
     "text": [
      "[20]\ttraining's binary_logloss: 0.537403\tvalid_0's binary_logloss: 0.589282\n",
      "[40]\ttraining's binary_logloss: 0.506717\tvalid_0's binary_logloss: 0.563863\n",
      "[60]\ttraining's binary_logloss: 0.497385\tvalid_0's binary_logloss: 0.560117\n",
      "[80]\ttraining's binary_logloss: 0.49327\tvalid_0's binary_logloss: 0.559632\n",
      "[100]\ttraining's binary_logloss: 0.490544\tvalid_0's binary_logloss: 0.56024\n"
     ]
    },
    {
     "name": "stderr",
     "output_type": "stream",
     "text": [
      "c:\\Users\\paulj\\Virtual_Environment_Python\\lib\\site-packages\\lightgbm\\sklearn.py:736: UserWarning: 'verbose' argument is deprecated and will be removed in a future release of LightGBM. Pass 'log_evaluation()' callback via 'callbacks' argument instead.\n",
      "  _log_warning(\"'verbose' argument is deprecated and will be removed in a future release of LightGBM. \"\n"
     ]
    },
    {
     "name": "stdout",
     "output_type": "stream",
     "text": [
      "[20]\ttraining's binary_logloss: 0.536426\tvalid_0's binary_logloss: 0.588367\n",
      "[40]\ttraining's binary_logloss: 0.506232\tvalid_0's binary_logloss: 0.563691\n",
      "[60]\ttraining's binary_logloss: 0.497119\tvalid_0's binary_logloss: 0.560072\n",
      "[80]\ttraining's binary_logloss: 0.493156\tvalid_0's binary_logloss: 0.559884\n",
      "[100]\ttraining's binary_logloss: 0.490437\tvalid_0's binary_logloss: 0.560724\n"
     ]
    },
    {
     "name": "stderr",
     "output_type": "stream",
     "text": [
      "c:\\Users\\paulj\\Virtual_Environment_Python\\lib\\site-packages\\lightgbm\\sklearn.py:736: UserWarning: 'verbose' argument is deprecated and will be removed in a future release of LightGBM. Pass 'log_evaluation()' callback via 'callbacks' argument instead.\n",
      "  _log_warning(\"'verbose' argument is deprecated and will be removed in a future release of LightGBM. \"\n"
     ]
    },
    {
     "name": "stdout",
     "output_type": "stream",
     "text": [
      "[20]\ttraining's binary_logloss: 0.53555\tvalid_0's binary_logloss: 0.587538\n",
      "[40]\ttraining's binary_logloss: 0.505745\tvalid_0's binary_logloss: 0.563163\n",
      "[60]\ttraining's binary_logloss: 0.496862\tvalid_0's binary_logloss: 0.559811\n",
      "[80]\ttraining's binary_logloss: 0.492938\tvalid_0's binary_logloss: 0.559248\n",
      "[100]\ttraining's binary_logloss: 0.490226\tvalid_0's binary_logloss: 0.559604\n"
     ]
    },
    {
     "name": "stderr",
     "output_type": "stream",
     "text": [
      "c:\\Users\\paulj\\Virtual_Environment_Python\\lib\\site-packages\\lightgbm\\sklearn.py:736: UserWarning: 'verbose' argument is deprecated and will be removed in a future release of LightGBM. Pass 'log_evaluation()' callback via 'callbacks' argument instead.\n",
      "  _log_warning(\"'verbose' argument is deprecated and will be removed in a future release of LightGBM. \"\n"
     ]
    },
    {
     "name": "stdout",
     "output_type": "stream",
     "text": [
      "[20]\ttraining's binary_logloss: 0.534586\tvalid_0's binary_logloss: 0.586242\n",
      "[40]\ttraining's binary_logloss: 0.505214\tvalid_0's binary_logloss: 0.562577\n",
      "[60]\ttraining's binary_logloss: 0.496551\tvalid_0's binary_logloss: 0.559757\n",
      "[80]\ttraining's binary_logloss: 0.492643\tvalid_0's binary_logloss: 0.559774\n",
      "[100]\ttraining's binary_logloss: 0.489919\tvalid_0's binary_logloss: 0.560102\n"
     ]
    },
    {
     "name": "stderr",
     "output_type": "stream",
     "text": [
      "c:\\Users\\paulj\\Virtual_Environment_Python\\lib\\site-packages\\lightgbm\\sklearn.py:736: UserWarning: 'verbose' argument is deprecated and will be removed in a future release of LightGBM. Pass 'log_evaluation()' callback via 'callbacks' argument instead.\n",
      "  _log_warning(\"'verbose' argument is deprecated and will be removed in a future release of LightGBM. \"\n"
     ]
    },
    {
     "name": "stdout",
     "output_type": "stream",
     "text": [
      "[20]\ttraining's binary_logloss: 0.533773\tvalid_0's binary_logloss: 0.585615\n",
      "[40]\ttraining's binary_logloss: 0.504809\tvalid_0's binary_logloss: 0.562748\n",
      "[60]\ttraining's binary_logloss: 0.496352\tvalid_0's binary_logloss: 0.560127\n",
      "[80]\ttraining's binary_logloss: 0.492457\tvalid_0's binary_logloss: 0.559693\n",
      "[100]\ttraining's binary_logloss: 0.489731\tvalid_0's binary_logloss: 0.559995\n"
     ]
    },
    {
     "name": "stderr",
     "output_type": "stream",
     "text": [
      "c:\\Users\\paulj\\Virtual_Environment_Python\\lib\\site-packages\\lightgbm\\sklearn.py:736: UserWarning: 'verbose' argument is deprecated and will be removed in a future release of LightGBM. Pass 'log_evaluation()' callback via 'callbacks' argument instead.\n",
      "  _log_warning(\"'verbose' argument is deprecated and will be removed in a future release of LightGBM. \"\n"
     ]
    },
    {
     "name": "stdout",
     "output_type": "stream",
     "text": [
      "[20]\ttraining's binary_logloss: 0.532987\tvalid_0's binary_logloss: 0.584961\n",
      "[40]\ttraining's binary_logloss: 0.504391\tvalid_0's binary_logloss: 0.562739\n",
      "[60]\ttraining's binary_logloss: 0.496132\tvalid_0's binary_logloss: 0.55994\n",
      "[80]\ttraining's binary_logloss: 0.49234\tvalid_0's binary_logloss: 0.559692\n",
      "[100]\ttraining's binary_logloss: 0.489725\tvalid_0's binary_logloss: 0.560092\n"
     ]
    },
    {
     "name": "stderr",
     "output_type": "stream",
     "text": [
      "c:\\Users\\paulj\\Virtual_Environment_Python\\lib\\site-packages\\lightgbm\\sklearn.py:736: UserWarning: 'verbose' argument is deprecated and will be removed in a future release of LightGBM. Pass 'log_evaluation()' callback via 'callbacks' argument instead.\n",
      "  _log_warning(\"'verbose' argument is deprecated and will be removed in a future release of LightGBM. \"\n"
     ]
    },
    {
     "name": "stdout",
     "output_type": "stream",
     "text": [
      "[20]\ttraining's binary_logloss: 0.532152\tvalid_0's binary_logloss: 0.584084\n",
      "[40]\ttraining's binary_logloss: 0.503955\tvalid_0's binary_logloss: 0.561999\n",
      "[60]\ttraining's binary_logloss: 0.495778\tvalid_0's binary_logloss: 0.559373\n",
      "[80]\ttraining's binary_logloss: 0.491954\tvalid_0's binary_logloss: 0.559394\n",
      "[100]\ttraining's binary_logloss: 0.489294\tvalid_0's binary_logloss: 0.559807\n"
     ]
    },
    {
     "name": "stderr",
     "output_type": "stream",
     "text": [
      "c:\\Users\\paulj\\Virtual_Environment_Python\\lib\\site-packages\\lightgbm\\sklearn.py:736: UserWarning: 'verbose' argument is deprecated and will be removed in a future release of LightGBM. Pass 'log_evaluation()' callback via 'callbacks' argument instead.\n",
      "  _log_warning(\"'verbose' argument is deprecated and will be removed in a future release of LightGBM. \"\n"
     ]
    },
    {
     "name": "stdout",
     "output_type": "stream",
     "text": [
      "[20]\ttraining's binary_logloss: 0.531188\tvalid_0's binary_logloss: 0.583274\n",
      "[40]\ttraining's binary_logloss: 0.50356\tvalid_0's binary_logloss: 0.561848\n",
      "[60]\ttraining's binary_logloss: 0.495654\tvalid_0's binary_logloss: 0.559571\n",
      "[80]\ttraining's binary_logloss: 0.491923\tvalid_0's binary_logloss: 0.559866\n",
      "[100]\ttraining's binary_logloss: 0.489253\tvalid_0's binary_logloss: 0.560055\n"
     ]
    },
    {
     "name": "stderr",
     "output_type": "stream",
     "text": [
      "c:\\Users\\paulj\\Virtual_Environment_Python\\lib\\site-packages\\lightgbm\\sklearn.py:736: UserWarning: 'verbose' argument is deprecated and will be removed in a future release of LightGBM. Pass 'log_evaluation()' callback via 'callbacks' argument instead.\n",
      "  _log_warning(\"'verbose' argument is deprecated and will be removed in a future release of LightGBM. \"\n"
     ]
    },
    {
     "name": "stdout",
     "output_type": "stream",
     "text": [
      "[20]\ttraining's binary_logloss: 0.530364\tvalid_0's binary_logloss: 0.582664\n",
      "[40]\ttraining's binary_logloss: 0.503024\tvalid_0's binary_logloss: 0.561662\n",
      "[60]\ttraining's binary_logloss: 0.495394\tvalid_0's binary_logloss: 0.559333\n",
      "[80]\ttraining's binary_logloss: 0.491649\tvalid_0's binary_logloss: 0.559806\n",
      "[100]\ttraining's binary_logloss: 0.488917\tvalid_0's binary_logloss: 0.560047\n"
     ]
    },
    {
     "name": "stderr",
     "output_type": "stream",
     "text": [
      "c:\\Users\\paulj\\Virtual_Environment_Python\\lib\\site-packages\\lightgbm\\sklearn.py:736: UserWarning: 'verbose' argument is deprecated and will be removed in a future release of LightGBM. Pass 'log_evaluation()' callback via 'callbacks' argument instead.\n",
      "  _log_warning(\"'verbose' argument is deprecated and will be removed in a future release of LightGBM. \"\n"
     ]
    },
    {
     "name": "stdout",
     "output_type": "stream",
     "text": [
      "[20]\ttraining's binary_logloss: 0.529779\tvalid_0's binary_logloss: 0.582394\n",
      "[40]\ttraining's binary_logloss: 0.502883\tvalid_0's binary_logloss: 0.561738\n",
      "[60]\ttraining's binary_logloss: 0.495325\tvalid_0's binary_logloss: 0.559666\n",
      "[80]\ttraining's binary_logloss: 0.491607\tvalid_0's binary_logloss: 0.560365\n",
      "[100]\ttraining's binary_logloss: 0.489024\tvalid_0's binary_logloss: 0.56051\n"
     ]
    },
    {
     "name": "stderr",
     "output_type": "stream",
     "text": [
      "c:\\Users\\paulj\\Virtual_Environment_Python\\lib\\site-packages\\lightgbm\\sklearn.py:736: UserWarning: 'verbose' argument is deprecated and will be removed in a future release of LightGBM. Pass 'log_evaluation()' callback via 'callbacks' argument instead.\n",
      "  _log_warning(\"'verbose' argument is deprecated and will be removed in a future release of LightGBM. \"\n"
     ]
    },
    {
     "name": "stdout",
     "output_type": "stream",
     "text": [
      "[20]\ttraining's binary_logloss: 0.528965\tvalid_0's binary_logloss: 0.581243\n",
      "[40]\ttraining's binary_logloss: 0.502428\tvalid_0's binary_logloss: 0.561341\n",
      "[60]\ttraining's binary_logloss: 0.495016\tvalid_0's binary_logloss: 0.559157\n",
      "[80]\ttraining's binary_logloss: 0.491312\tvalid_0's binary_logloss: 0.559404\n",
      "[100]\ttraining's binary_logloss: 0.488605\tvalid_0's binary_logloss: 0.559754\n"
     ]
    },
    {
     "name": "stderr",
     "output_type": "stream",
     "text": [
      "c:\\Users\\paulj\\Virtual_Environment_Python\\lib\\site-packages\\lightgbm\\sklearn.py:736: UserWarning: 'verbose' argument is deprecated and will be removed in a future release of LightGBM. Pass 'log_evaluation()' callback via 'callbacks' argument instead.\n",
      "  _log_warning(\"'verbose' argument is deprecated and will be removed in a future release of LightGBM. \"\n"
     ]
    },
    {
     "name": "stdout",
     "output_type": "stream",
     "text": [
      "[20]\ttraining's binary_logloss: 0.528281\tvalid_0's binary_logloss: 0.580805\n",
      "[40]\ttraining's binary_logloss: 0.502092\tvalid_0's binary_logloss: 0.561352\n",
      "[60]\ttraining's binary_logloss: 0.4948\tvalid_0's binary_logloss: 0.559583\n",
      "[80]\ttraining's binary_logloss: 0.491153\tvalid_0's binary_logloss: 0.56037\n",
      "[100]\ttraining's binary_logloss: 0.488533\tvalid_0's binary_logloss: 0.560012\n"
     ]
    },
    {
     "name": "stderr",
     "output_type": "stream",
     "text": [
      "c:\\Users\\paulj\\Virtual_Environment_Python\\lib\\site-packages\\lightgbm\\sklearn.py:736: UserWarning: 'verbose' argument is deprecated and will be removed in a future release of LightGBM. Pass 'log_evaluation()' callback via 'callbacks' argument instead.\n",
      "  _log_warning(\"'verbose' argument is deprecated and will be removed in a future release of LightGBM. \"\n"
     ]
    },
    {
     "name": "stdout",
     "output_type": "stream",
     "text": [
      "[20]\ttraining's binary_logloss: 0.52761\tvalid_0's binary_logloss: 0.580004\n",
      "[40]\ttraining's binary_logloss: 0.501774\tvalid_0's binary_logloss: 0.56106\n",
      "[60]\ttraining's binary_logloss: 0.494698\tvalid_0's binary_logloss: 0.559118\n",
      "[80]\ttraining's binary_logloss: 0.491046\tvalid_0's binary_logloss: 0.559847\n",
      "[100]\ttraining's binary_logloss: 0.488196\tvalid_0's binary_logloss: 0.560367\n"
     ]
    },
    {
     "name": "stderr",
     "output_type": "stream",
     "text": [
      "c:\\Users\\paulj\\Virtual_Environment_Python\\lib\\site-packages\\lightgbm\\sklearn.py:736: UserWarning: 'verbose' argument is deprecated and will be removed in a future release of LightGBM. Pass 'log_evaluation()' callback via 'callbacks' argument instead.\n",
      "  _log_warning(\"'verbose' argument is deprecated and will be removed in a future release of LightGBM. \"\n"
     ]
    },
    {
     "name": "stdout",
     "output_type": "stream",
     "text": [
      "[20]\ttraining's binary_logloss: 0.526869\tvalid_0's binary_logloss: 0.579133\n",
      "[40]\ttraining's binary_logloss: 0.501418\tvalid_0's binary_logloss: 0.561108\n",
      "[60]\ttraining's binary_logloss: 0.494414\tvalid_0's binary_logloss: 0.55968\n",
      "[80]\ttraining's binary_logloss: 0.490797\tvalid_0's binary_logloss: 0.560152\n",
      "[100]\ttraining's binary_logloss: 0.488042\tvalid_0's binary_logloss: 0.560469\n"
     ]
    },
    {
     "name": "stderr",
     "output_type": "stream",
     "text": [
      "c:\\Users\\paulj\\Virtual_Environment_Python\\lib\\site-packages\\lightgbm\\sklearn.py:736: UserWarning: 'verbose' argument is deprecated and will be removed in a future release of LightGBM. Pass 'log_evaluation()' callback via 'callbacks' argument instead.\n",
      "  _log_warning(\"'verbose' argument is deprecated and will be removed in a future release of LightGBM. \"\n"
     ]
    },
    {
     "name": "stdout",
     "output_type": "stream",
     "text": [
      "[20]\ttraining's binary_logloss: 0.526158\tvalid_0's binary_logloss: 0.578648\n",
      "[40]\ttraining's binary_logloss: 0.501206\tvalid_0's binary_logloss: 0.560507\n",
      "[60]\ttraining's binary_logloss: 0.494316\tvalid_0's binary_logloss: 0.559219\n",
      "[80]\ttraining's binary_logloss: 0.490752\tvalid_0's binary_logloss: 0.559738\n",
      "[100]\ttraining's binary_logloss: 0.487928\tvalid_0's binary_logloss: 0.559988\n"
     ]
    },
    {
     "name": "stderr",
     "output_type": "stream",
     "text": [
      "c:\\Users\\paulj\\Virtual_Environment_Python\\lib\\site-packages\\lightgbm\\sklearn.py:736: UserWarning: 'verbose' argument is deprecated and will be removed in a future release of LightGBM. Pass 'log_evaluation()' callback via 'callbacks' argument instead.\n",
      "  _log_warning(\"'verbose' argument is deprecated and will be removed in a future release of LightGBM. \"\n"
     ]
    },
    {
     "name": "stdout",
     "output_type": "stream",
     "text": [
      "[20]\ttraining's binary_logloss: 0.525461\tvalid_0's binary_logloss: 0.578023\n",
      "[40]\ttraining's binary_logloss: 0.500906\tvalid_0's binary_logloss: 0.560653\n",
      "[60]\ttraining's binary_logloss: 0.494119\tvalid_0's binary_logloss: 0.559507\n",
      "[80]\ttraining's binary_logloss: 0.490496\tvalid_0's binary_logloss: 0.559786\n",
      "[100]\ttraining's binary_logloss: 0.487869\tvalid_0's binary_logloss: 0.56037\n"
     ]
    },
    {
     "name": "stderr",
     "output_type": "stream",
     "text": [
      "c:\\Users\\paulj\\Virtual_Environment_Python\\lib\\site-packages\\lightgbm\\sklearn.py:736: UserWarning: 'verbose' argument is deprecated and will be removed in a future release of LightGBM. Pass 'log_evaluation()' callback via 'callbacks' argument instead.\n",
      "  _log_warning(\"'verbose' argument is deprecated and will be removed in a future release of LightGBM. \"\n"
     ]
    },
    {
     "name": "stdout",
     "output_type": "stream",
     "text": [
      "[20]\ttraining's binary_logloss: 0.524815\tvalid_0's binary_logloss: 0.577686\n",
      "[40]\ttraining's binary_logloss: 0.500561\tvalid_0's binary_logloss: 0.560949\n",
      "[60]\ttraining's binary_logloss: 0.493987\tvalid_0's binary_logloss: 0.560213\n",
      "[80]\ttraining's binary_logloss: 0.490402\tvalid_0's binary_logloss: 0.560773\n",
      "[100]\ttraining's binary_logloss: 0.487865\tvalid_0's binary_logloss: 0.561182\n"
     ]
    },
    {
     "name": "stderr",
     "output_type": "stream",
     "text": [
      "c:\\Users\\paulj\\Virtual_Environment_Python\\lib\\site-packages\\lightgbm\\sklearn.py:736: UserWarning: 'verbose' argument is deprecated and will be removed in a future release of LightGBM. Pass 'log_evaluation()' callback via 'callbacks' argument instead.\n",
      "  _log_warning(\"'verbose' argument is deprecated and will be removed in a future release of LightGBM. \"\n"
     ]
    },
    {
     "name": "stdout",
     "output_type": "stream",
     "text": [
      "[20]\ttraining's binary_logloss: 0.524154\tvalid_0's binary_logloss: 0.577358\n",
      "[40]\ttraining's binary_logloss: 0.500349\tvalid_0's binary_logloss: 0.560818\n",
      "[60]\ttraining's binary_logloss: 0.493799\tvalid_0's binary_logloss: 0.559926\n",
      "[80]\ttraining's binary_logloss: 0.49024\tvalid_0's binary_logloss: 0.56039\n",
      "[100]\ttraining's binary_logloss: 0.487525\tvalid_0's binary_logloss: 0.560795\n"
     ]
    },
    {
     "name": "stderr",
     "output_type": "stream",
     "text": [
      "c:\\Users\\paulj\\Virtual_Environment_Python\\lib\\site-packages\\lightgbm\\sklearn.py:736: UserWarning: 'verbose' argument is deprecated and will be removed in a future release of LightGBM. Pass 'log_evaluation()' callback via 'callbacks' argument instead.\n",
      "  _log_warning(\"'verbose' argument is deprecated and will be removed in a future release of LightGBM. \"\n"
     ]
    },
    {
     "name": "stdout",
     "output_type": "stream",
     "text": [
      "[20]\ttraining's binary_logloss: 0.52355\tvalid_0's binary_logloss: 0.576287\n",
      "[40]\ttraining's binary_logloss: 0.49999\tvalid_0's binary_logloss: 0.560348\n",
      "[60]\ttraining's binary_logloss: 0.493675\tvalid_0's binary_logloss: 0.559519\n",
      "[80]\ttraining's binary_logloss: 0.490174\tvalid_0's binary_logloss: 0.560262\n",
      "[100]\ttraining's binary_logloss: 0.487481\tvalid_0's binary_logloss: 0.560915\n"
     ]
    },
    {
     "name": "stderr",
     "output_type": "stream",
     "text": [
      "c:\\Users\\paulj\\Virtual_Environment_Python\\lib\\site-packages\\lightgbm\\sklearn.py:736: UserWarning: 'verbose' argument is deprecated and will be removed in a future release of LightGBM. Pass 'log_evaluation()' callback via 'callbacks' argument instead.\n",
      "  _log_warning(\"'verbose' argument is deprecated and will be removed in a future release of LightGBM. \"\n"
     ]
    },
    {
     "name": "stdout",
     "output_type": "stream",
     "text": [
      "[20]\ttraining's binary_logloss: 0.522804\tvalid_0's binary_logloss: 0.575788\n",
      "[40]\ttraining's binary_logloss: 0.499737\tvalid_0's binary_logloss: 0.560502\n",
      "[60]\ttraining's binary_logloss: 0.493484\tvalid_0's binary_logloss: 0.560163\n",
      "[80]\ttraining's binary_logloss: 0.490004\tvalid_0's binary_logloss: 0.560934\n",
      "[100]\ttraining's binary_logloss: 0.487293\tvalid_0's binary_logloss: 0.561371\n"
     ]
    },
    {
     "name": "stderr",
     "output_type": "stream",
     "text": [
      "c:\\Users\\paulj\\Virtual_Environment_Python\\lib\\site-packages\\lightgbm\\sklearn.py:736: UserWarning: 'verbose' argument is deprecated and will be removed in a future release of LightGBM. Pass 'log_evaluation()' callback via 'callbacks' argument instead.\n",
      "  _log_warning(\"'verbose' argument is deprecated and will be removed in a future release of LightGBM. \"\n"
     ]
    },
    {
     "name": "stdout",
     "output_type": "stream",
     "text": [
      "[20]\ttraining's binary_logloss: 0.522187\tvalid_0's binary_logloss: 0.575865\n",
      "[40]\ttraining's binary_logloss: 0.499389\tvalid_0's binary_logloss: 0.560231\n",
      "[60]\ttraining's binary_logloss: 0.493349\tvalid_0's binary_logloss: 0.560229\n",
      "[80]\ttraining's binary_logloss: 0.489804\tvalid_0's binary_logloss: 0.56056\n",
      "[100]\ttraining's binary_logloss: 0.487156\tvalid_0's binary_logloss: 0.561341\n"
     ]
    },
    {
     "name": "stderr",
     "output_type": "stream",
     "text": [
      "c:\\Users\\paulj\\Virtual_Environment_Python\\lib\\site-packages\\lightgbm\\sklearn.py:736: UserWarning: 'verbose' argument is deprecated and will be removed in a future release of LightGBM. Pass 'log_evaluation()' callback via 'callbacks' argument instead.\n",
      "  _log_warning(\"'verbose' argument is deprecated and will be removed in a future release of LightGBM. \"\n"
     ]
    },
    {
     "name": "stdout",
     "output_type": "stream",
     "text": [
      "[20]\ttraining's binary_logloss: 0.521694\tvalid_0's binary_logloss: 0.574862\n",
      "[40]\ttraining's binary_logloss: 0.499151\tvalid_0's binary_logloss: 0.560424\n",
      "[60]\ttraining's binary_logloss: 0.493094\tvalid_0's binary_logloss: 0.55964\n",
      "[80]\ttraining's binary_logloss: 0.489611\tvalid_0's binary_logloss: 0.559906\n",
      "[100]\ttraining's binary_logloss: 0.486807\tvalid_0's binary_logloss: 0.560108\n"
     ]
    },
    {
     "name": "stderr",
     "output_type": "stream",
     "text": [
      "c:\\Users\\paulj\\Virtual_Environment_Python\\lib\\site-packages\\lightgbm\\sklearn.py:736: UserWarning: 'verbose' argument is deprecated and will be removed in a future release of LightGBM. Pass 'log_evaluation()' callback via 'callbacks' argument instead.\n",
      "  _log_warning(\"'verbose' argument is deprecated and will be removed in a future release of LightGBM. \"\n"
     ]
    },
    {
     "name": "stdout",
     "output_type": "stream",
     "text": [
      "[20]\ttraining's binary_logloss: 0.521132\tvalid_0's binary_logloss: 0.574657\n",
      "[40]\ttraining's binary_logloss: 0.499152\tvalid_0's binary_logloss: 0.560792\n",
      "[60]\ttraining's binary_logloss: 0.493126\tvalid_0's binary_logloss: 0.56021\n",
      "[80]\ttraining's binary_logloss: 0.48955\tvalid_0's binary_logloss: 0.560633\n",
      "[100]\ttraining's binary_logloss: 0.486733\tvalid_0's binary_logloss: 0.560626\n"
     ]
    },
    {
     "name": "stderr",
     "output_type": "stream",
     "text": [
      "c:\\Users\\paulj\\Virtual_Environment_Python\\lib\\site-packages\\lightgbm\\sklearn.py:736: UserWarning: 'verbose' argument is deprecated and will be removed in a future release of LightGBM. Pass 'log_evaluation()' callback via 'callbacks' argument instead.\n",
      "  _log_warning(\"'verbose' argument is deprecated and will be removed in a future release of LightGBM. \"\n"
     ]
    },
    {
     "name": "stdout",
     "output_type": "stream",
     "text": [
      "[20]\ttraining's binary_logloss: 0.520631\tvalid_0's binary_logloss: 0.574114\n",
      "[40]\ttraining's binary_logloss: 0.498829\tvalid_0's binary_logloss: 0.560617\n",
      "[60]\ttraining's binary_logloss: 0.492764\tvalid_0's binary_logloss: 0.560177\n",
      "[80]\ttraining's binary_logloss: 0.489318\tvalid_0's binary_logloss: 0.561001\n",
      "[100]\ttraining's binary_logloss: 0.486603\tvalid_0's binary_logloss: 0.561062\n"
     ]
    },
    {
     "name": "stderr",
     "output_type": "stream",
     "text": [
      "c:\\Users\\paulj\\Virtual_Environment_Python\\lib\\site-packages\\lightgbm\\sklearn.py:736: UserWarning: 'verbose' argument is deprecated and will be removed in a future release of LightGBM. Pass 'log_evaluation()' callback via 'callbacks' argument instead.\n",
      "  _log_warning(\"'verbose' argument is deprecated and will be removed in a future release of LightGBM. \"\n"
     ]
    },
    {
     "name": "stdout",
     "output_type": "stream",
     "text": [
      "[20]\ttraining's binary_logloss: 0.519991\tvalid_0's binary_logloss: 0.573439\n",
      "[40]\ttraining's binary_logloss: 0.49852\tvalid_0's binary_logloss: 0.560513\n",
      "[60]\ttraining's binary_logloss: 0.492599\tvalid_0's binary_logloss: 0.560153\n",
      "[80]\ttraining's binary_logloss: 0.489144\tvalid_0's binary_logloss: 0.560445\n",
      "[100]\ttraining's binary_logloss: 0.486328\tvalid_0's binary_logloss: 0.561308\n"
     ]
    },
    {
     "name": "stderr",
     "output_type": "stream",
     "text": [
      "c:\\Users\\paulj\\Virtual_Environment_Python\\lib\\site-packages\\lightgbm\\sklearn.py:736: UserWarning: 'verbose' argument is deprecated and will be removed in a future release of LightGBM. Pass 'log_evaluation()' callback via 'callbacks' argument instead.\n",
      "  _log_warning(\"'verbose' argument is deprecated and will be removed in a future release of LightGBM. \"\n"
     ]
    },
    {
     "name": "stdout",
     "output_type": "stream",
     "text": [
      "[20]\ttraining's binary_logloss: 0.51926\tvalid_0's binary_logloss: 0.572402\n",
      "[40]\ttraining's binary_logloss: 0.498217\tvalid_0's binary_logloss: 0.56008\n",
      "[60]\ttraining's binary_logloss: 0.492358\tvalid_0's binary_logloss: 0.559654\n",
      "[80]\ttraining's binary_logloss: 0.488941\tvalid_0's binary_logloss: 0.56077\n",
      "[100]\ttraining's binary_logloss: 0.486115\tvalid_0's binary_logloss: 0.561229\n"
     ]
    },
    {
     "name": "stderr",
     "output_type": "stream",
     "text": [
      "c:\\Users\\paulj\\Virtual_Environment_Python\\lib\\site-packages\\lightgbm\\sklearn.py:736: UserWarning: 'verbose' argument is deprecated and will be removed in a future release of LightGBM. Pass 'log_evaluation()' callback via 'callbacks' argument instead.\n",
      "  _log_warning(\"'verbose' argument is deprecated and will be removed in a future release of LightGBM. \"\n"
     ]
    },
    {
     "name": "stdout",
     "output_type": "stream",
     "text": [
      "[20]\ttraining's binary_logloss: 0.518661\tvalid_0's binary_logloss: 0.571964\n",
      "[40]\ttraining's binary_logloss: 0.498146\tvalid_0's binary_logloss: 0.559863\n",
      "[60]\ttraining's binary_logloss: 0.492434\tvalid_0's binary_logloss: 0.559429\n",
      "[80]\ttraining's binary_logloss: 0.489177\tvalid_0's binary_logloss: 0.559723\n",
      "[100]\ttraining's binary_logloss: 0.486259\tvalid_0's binary_logloss: 0.560313\n"
     ]
    },
    {
     "name": "stderr",
     "output_type": "stream",
     "text": [
      "c:\\Users\\paulj\\Virtual_Environment_Python\\lib\\site-packages\\lightgbm\\sklearn.py:736: UserWarning: 'verbose' argument is deprecated and will be removed in a future release of LightGBM. Pass 'log_evaluation()' callback via 'callbacks' argument instead.\n",
      "  _log_warning(\"'verbose' argument is deprecated and will be removed in a future release of LightGBM. \"\n"
     ]
    },
    {
     "name": "stdout",
     "output_type": "stream",
     "text": [
      "[20]\ttraining's binary_logloss: 0.518469\tvalid_0's binary_logloss: 0.57173\n",
      "[40]\ttraining's binary_logloss: 0.497881\tvalid_0's binary_logloss: 0.559967\n",
      "[60]\ttraining's binary_logloss: 0.492304\tvalid_0's binary_logloss: 0.559744\n",
      "[80]\ttraining's binary_logloss: 0.488784\tvalid_0's binary_logloss: 0.560299\n",
      "[100]\ttraining's binary_logloss: 0.485766\tvalid_0's binary_logloss: 0.560835\n"
     ]
    },
    {
     "name": "stderr",
     "output_type": "stream",
     "text": [
      "c:\\Users\\paulj\\Virtual_Environment_Python\\lib\\site-packages\\lightgbm\\sklearn.py:736: UserWarning: 'verbose' argument is deprecated and will be removed in a future release of LightGBM. Pass 'log_evaluation()' callback via 'callbacks' argument instead.\n",
      "  _log_warning(\"'verbose' argument is deprecated and will be removed in a future release of LightGBM. \"\n"
     ]
    },
    {
     "name": "stdout",
     "output_type": "stream",
     "text": [
      "[20]\ttraining's binary_logloss: 0.517818\tvalid_0's binary_logloss: 0.571453\n",
      "[40]\ttraining's binary_logloss: 0.497719\tvalid_0's binary_logloss: 0.560349\n",
      "[60]\ttraining's binary_logloss: 0.49213\tvalid_0's binary_logloss: 0.560521\n",
      "[80]\ttraining's binary_logloss: 0.488635\tvalid_0's binary_logloss: 0.561131\n",
      "[100]\ttraining's binary_logloss: 0.485761\tvalid_0's binary_logloss: 0.562072\n"
     ]
    },
    {
     "name": "stderr",
     "output_type": "stream",
     "text": [
      "c:\\Users\\paulj\\Virtual_Environment_Python\\lib\\site-packages\\lightgbm\\sklearn.py:736: UserWarning: 'verbose' argument is deprecated and will be removed in a future release of LightGBM. Pass 'log_evaluation()' callback via 'callbacks' argument instead.\n",
      "  _log_warning(\"'verbose' argument is deprecated and will be removed in a future release of LightGBM. \"\n"
     ]
    },
    {
     "name": "stdout",
     "output_type": "stream",
     "text": [
      "[20]\ttraining's binary_logloss: 0.517431\tvalid_0's binary_logloss: 0.570977\n",
      "[40]\ttraining's binary_logloss: 0.497635\tvalid_0's binary_logloss: 0.560165\n",
      "[60]\ttraining's binary_logloss: 0.492028\tvalid_0's binary_logloss: 0.55985\n",
      "[80]\ttraining's binary_logloss: 0.488395\tvalid_0's binary_logloss: 0.560602\n",
      "[100]\ttraining's binary_logloss: 0.485347\tvalid_0's binary_logloss: 0.560297\n"
     ]
    },
    {
     "name": "stderr",
     "output_type": "stream",
     "text": [
      "c:\\Users\\paulj\\Virtual_Environment_Python\\lib\\site-packages\\lightgbm\\sklearn.py:736: UserWarning: 'verbose' argument is deprecated and will be removed in a future release of LightGBM. Pass 'log_evaluation()' callback via 'callbacks' argument instead.\n",
      "  _log_warning(\"'verbose' argument is deprecated and will be removed in a future release of LightGBM. \"\n"
     ]
    },
    {
     "name": "stdout",
     "output_type": "stream",
     "text": [
      "[20]\ttraining's binary_logloss: 0.516812\tvalid_0's binary_logloss: 0.570868\n",
      "[40]\ttraining's binary_logloss: 0.497308\tvalid_0's binary_logloss: 0.560258\n",
      "[60]\ttraining's binary_logloss: 0.491832\tvalid_0's binary_logloss: 0.560212\n",
      "[80]\ttraining's binary_logloss: 0.488447\tvalid_0's binary_logloss: 0.560884\n",
      "[100]\ttraining's binary_logloss: 0.485591\tvalid_0's binary_logloss: 0.561511\n"
     ]
    },
    {
     "name": "stderr",
     "output_type": "stream",
     "text": [
      "c:\\Users\\paulj\\Virtual_Environment_Python\\lib\\site-packages\\lightgbm\\sklearn.py:736: UserWarning: 'verbose' argument is deprecated and will be removed in a future release of LightGBM. Pass 'log_evaluation()' callback via 'callbacks' argument instead.\n",
      "  _log_warning(\"'verbose' argument is deprecated and will be removed in a future release of LightGBM. \"\n"
     ]
    },
    {
     "name": "stdout",
     "output_type": "stream",
     "text": [
      "[20]\ttraining's binary_logloss: 0.516391\tvalid_0's binary_logloss: 0.570381\n",
      "[40]\ttraining's binary_logloss: 0.497151\tvalid_0's binary_logloss: 0.560159\n",
      "[60]\ttraining's binary_logloss: 0.491765\tvalid_0's binary_logloss: 0.560452\n",
      "[80]\ttraining's binary_logloss: 0.488195\tvalid_0's binary_logloss: 0.560852\n",
      "[100]\ttraining's binary_logloss: 0.485228\tvalid_0's binary_logloss: 0.56106\n"
     ]
    },
    {
     "name": "stderr",
     "output_type": "stream",
     "text": [
      "c:\\Users\\paulj\\Virtual_Environment_Python\\lib\\site-packages\\lightgbm\\sklearn.py:736: UserWarning: 'verbose' argument is deprecated and will be removed in a future release of LightGBM. Pass 'log_evaluation()' callback via 'callbacks' argument instead.\n",
      "  _log_warning(\"'verbose' argument is deprecated and will be removed in a future release of LightGBM. \"\n"
     ]
    },
    {
     "name": "stdout",
     "output_type": "stream",
     "text": [
      "[20]\ttraining's binary_logloss: 0.51586\tvalid_0's binary_logloss: 0.570096\n",
      "[40]\ttraining's binary_logloss: 0.497014\tvalid_0's binary_logloss: 0.560067\n",
      "[60]\ttraining's binary_logloss: 0.491616\tvalid_0's binary_logloss: 0.560046\n",
      "[80]\ttraining's binary_logloss: 0.488148\tvalid_0's binary_logloss: 0.560882\n",
      "[100]\ttraining's binary_logloss: 0.485258\tvalid_0's binary_logloss: 0.561714\n"
     ]
    },
    {
     "name": "stderr",
     "output_type": "stream",
     "text": [
      "c:\\Users\\paulj\\Virtual_Environment_Python\\lib\\site-packages\\lightgbm\\sklearn.py:736: UserWarning: 'verbose' argument is deprecated and will be removed in a future release of LightGBM. Pass 'log_evaluation()' callback via 'callbacks' argument instead.\n",
      "  _log_warning(\"'verbose' argument is deprecated and will be removed in a future release of LightGBM. \"\n"
     ]
    },
    {
     "name": "stdout",
     "output_type": "stream",
     "text": [
      "[20]\ttraining's binary_logloss: 0.515517\tvalid_0's binary_logloss: 0.570081\n",
      "[40]\ttraining's binary_logloss: 0.496822\tvalid_0's binary_logloss: 0.5603\n",
      "[60]\ttraining's binary_logloss: 0.491415\tvalid_0's binary_logloss: 0.559957\n",
      "[80]\ttraining's binary_logloss: 0.488051\tvalid_0's binary_logloss: 0.560358\n",
      "[100]\ttraining's binary_logloss: 0.484956\tvalid_0's binary_logloss: 0.560848\n"
     ]
    },
    {
     "name": "stderr",
     "output_type": "stream",
     "text": [
      "c:\\Users\\paulj\\Virtual_Environment_Python\\lib\\site-packages\\lightgbm\\sklearn.py:736: UserWarning: 'verbose' argument is deprecated and will be removed in a future release of LightGBM. Pass 'log_evaluation()' callback via 'callbacks' argument instead.\n",
      "  _log_warning(\"'verbose' argument is deprecated and will be removed in a future release of LightGBM. \"\n"
     ]
    },
    {
     "name": "stdout",
     "output_type": "stream",
     "text": [
      "[20]\ttraining's binary_logloss: 0.514945\tvalid_0's binary_logloss: 0.569374\n",
      "[40]\ttraining's binary_logloss: 0.496535\tvalid_0's binary_logloss: 0.559864\n",
      "[60]\ttraining's binary_logloss: 0.49123\tvalid_0's binary_logloss: 0.560157\n",
      "[80]\ttraining's binary_logloss: 0.487657\tvalid_0's binary_logloss: 0.5612\n",
      "[100]\ttraining's binary_logloss: 0.484772\tvalid_0's binary_logloss: 0.562004\n"
     ]
    },
    {
     "name": "stderr",
     "output_type": "stream",
     "text": [
      "c:\\Users\\paulj\\Virtual_Environment_Python\\lib\\site-packages\\lightgbm\\sklearn.py:736: UserWarning: 'verbose' argument is deprecated and will be removed in a future release of LightGBM. Pass 'log_evaluation()' callback via 'callbacks' argument instead.\n",
      "  _log_warning(\"'verbose' argument is deprecated and will be removed in a future release of LightGBM. \"\n"
     ]
    },
    {
     "name": "stdout",
     "output_type": "stream",
     "text": [
      "[20]\ttraining's binary_logloss: 0.5145\tvalid_0's binary_logloss: 0.568459\n",
      "[40]\ttraining's binary_logloss: 0.496397\tvalid_0's binary_logloss: 0.560116\n",
      "[60]\ttraining's binary_logloss: 0.491008\tvalid_0's binary_logloss: 0.560007\n",
      "[80]\ttraining's binary_logloss: 0.487628\tvalid_0's binary_logloss: 0.560983\n",
      "[100]\ttraining's binary_logloss: 0.484718\tvalid_0's binary_logloss: 0.56173\n"
     ]
    },
    {
     "name": "stderr",
     "output_type": "stream",
     "text": [
      "c:\\Users\\paulj\\Virtual_Environment_Python\\lib\\site-packages\\lightgbm\\sklearn.py:736: UserWarning: 'verbose' argument is deprecated and will be removed in a future release of LightGBM. Pass 'log_evaluation()' callback via 'callbacks' argument instead.\n",
      "  _log_warning(\"'verbose' argument is deprecated and will be removed in a future release of LightGBM. \"\n"
     ]
    },
    {
     "name": "stdout",
     "output_type": "stream",
     "text": [
      "[20]\ttraining's binary_logloss: 0.51408\tvalid_0's binary_logloss: 0.568893\n",
      "[40]\ttraining's binary_logloss: 0.496129\tvalid_0's binary_logloss: 0.559965\n",
      "[60]\ttraining's binary_logloss: 0.490839\tvalid_0's binary_logloss: 0.560843\n",
      "[80]\ttraining's binary_logloss: 0.48761\tvalid_0's binary_logloss: 0.561306\n",
      "[100]\ttraining's binary_logloss: 0.484613\tvalid_0's binary_logloss: 0.561799\n"
     ]
    },
    {
     "name": "stderr",
     "output_type": "stream",
     "text": [
      "c:\\Users\\paulj\\Virtual_Environment_Python\\lib\\site-packages\\lightgbm\\sklearn.py:736: UserWarning: 'verbose' argument is deprecated and will be removed in a future release of LightGBM. Pass 'log_evaluation()' callback via 'callbacks' argument instead.\n",
      "  _log_warning(\"'verbose' argument is deprecated and will be removed in a future release of LightGBM. \"\n"
     ]
    },
    {
     "name": "stdout",
     "output_type": "stream",
     "text": [
      "[20]\ttraining's binary_logloss: 0.513641\tvalid_0's binary_logloss: 0.568149\n",
      "[40]\ttraining's binary_logloss: 0.496286\tvalid_0's binary_logloss: 0.560101\n",
      "[60]\ttraining's binary_logloss: 0.490973\tvalid_0's binary_logloss: 0.560501\n",
      "[80]\ttraining's binary_logloss: 0.487635\tvalid_0's binary_logloss: 0.56106\n",
      "[100]\ttraining's binary_logloss: 0.484543\tvalid_0's binary_logloss: 0.56163\n"
     ]
    },
    {
     "name": "stderr",
     "output_type": "stream",
     "text": [
      "c:\\Users\\paulj\\Virtual_Environment_Python\\lib\\site-packages\\lightgbm\\sklearn.py:736: UserWarning: 'verbose' argument is deprecated and will be removed in a future release of LightGBM. Pass 'log_evaluation()' callback via 'callbacks' argument instead.\n",
      "  _log_warning(\"'verbose' argument is deprecated and will be removed in a future release of LightGBM. \"\n"
     ]
    },
    {
     "name": "stdout",
     "output_type": "stream",
     "text": [
      "[20]\ttraining's binary_logloss: 0.513233\tvalid_0's binary_logloss: 0.567917\n",
      "[40]\ttraining's binary_logloss: 0.495919\tvalid_0's binary_logloss: 0.560196\n",
      "[60]\ttraining's binary_logloss: 0.490828\tvalid_0's binary_logloss: 0.560101\n",
      "[80]\ttraining's binary_logloss: 0.487241\tvalid_0's binary_logloss: 0.55989\n",
      "[100]\ttraining's binary_logloss: 0.484263\tvalid_0's binary_logloss: 0.560589\n"
     ]
    },
    {
     "name": "stderr",
     "output_type": "stream",
     "text": [
      "c:\\Users\\paulj\\Virtual_Environment_Python\\lib\\site-packages\\lightgbm\\sklearn.py:736: UserWarning: 'verbose' argument is deprecated and will be removed in a future release of LightGBM. Pass 'log_evaluation()' callback via 'callbacks' argument instead.\n",
      "  _log_warning(\"'verbose' argument is deprecated and will be removed in a future release of LightGBM. \"\n"
     ]
    },
    {
     "name": "stdout",
     "output_type": "stream",
     "text": [
      "[20]\ttraining's binary_logloss: 0.512782\tvalid_0's binary_logloss: 0.567592\n",
      "[40]\ttraining's binary_logloss: 0.495821\tvalid_0's binary_logloss: 0.560317\n",
      "[60]\ttraining's binary_logloss: 0.490536\tvalid_0's binary_logloss: 0.560473\n",
      "[80]\ttraining's binary_logloss: 0.487127\tvalid_0's binary_logloss: 0.560836\n",
      "[100]\ttraining's binary_logloss: 0.484066\tvalid_0's binary_logloss: 0.561648\n"
     ]
    }
   ],
   "source": [
    "stdScale = StandardScaler()\n",
    "stdScale.fit_transform(X_train)\n",
    "stdScale.transform(X_test)\n",
    "\n",
    "output = {}\n",
    "\n",
    "lr = 0.001\n",
    "while lr < 0.1:\n",
    "    lgbm = LGBMClassifier(objective = \"binary\", max_depth = 30, learning_rate = lr)\n",
    "    lgbm.fit(X_train,y_train, eval_set = [(X_test, y_test) , (X_train, y_train)], eval_metric = 'logloss', verbose = 20)\n",
    "    prediction = lgbm.predict_proba(X_test)\n",
    "    # output.append(log_loss(y_true = y_test, y_pred = prediction))\n",
    "    output[lr] = log_loss(y_true = y_test, y_pred = prediction)\n",
    "    lr += .001\n",
    "\n",
    "\n"
   ]
  },
  {
   "cell_type": "code",
   "execution_count": 85,
   "metadata": {},
   "outputs": [
    {
     "data": {
      "text/plain": [
       "0.047000000000000035"
      ]
     },
     "execution_count": 85,
     "metadata": {},
     "output_type": "execute_result"
    }
   ],
   "source": [
    "min(output, key = output.get)"
   ]
  }
 ],
 "metadata": {
  "kernelspec": {
   "display_name": "Python 3.10.7 ('Virtual_Environment_Python')",
   "language": "python",
   "name": "python3"
  },
  "language_info": {
   "codemirror_mode": {
    "name": "ipython",
    "version": 3
   },
   "file_extension": ".py",
   "mimetype": "text/x-python",
   "name": "python",
   "nbconvert_exporter": "python",
   "pygments_lexer": "ipython3",
   "version": "3.10.7"
  },
  "orig_nbformat": 4,
  "vscode": {
   "interpreter": {
    "hash": "9e47a574da5ad346479a645ae2c39fe10a784865b81b7c753e106583b219afff"
   }
  }
 },
 "nbformat": 4,
 "nbformat_minor": 2
}
